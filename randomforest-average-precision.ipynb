{
 "cells": [
  {
   "cell_type": "code",
   "execution_count": 38,
   "metadata": {},
   "outputs": [],
   "source": [
    "import matplotlib.pyplot as plt\n",
    "import numpy as np\n",
    "import pandas as pd\n",
    "import tensorflow as tf\n",
    "\n",
    "from collections import Counter\n",
    "from itertools import combinations_with_replacement as combos\n",
    "from itertools import permutations as perms\n",
    "from tensorflow.keras import layers, Model\n",
    "from sklearn.ensemble import RandomForestClassifier, ExtraTreesClassifier\n",
    "from sklearn.metrics import coverage_error, f1_score, label_ranking_average_precision_score, average_precision_score\n",
    "from sklearn.model_selection import train_test_split, GridSearchCV\n",
    "from category_encoders import OneHotEncoder\n",
    "from tensorflow.data import Dataset\n"
   ]
  },
  {
   "cell_type": "code",
   "execution_count": 3,
   "metadata": {},
   "outputs": [],
   "source": [
    "def is_three_pair(choice):\n",
    "    choice = sorted(choice)\n",
    "    return (len(choice) == 6 and choice[0] == choice[1] and\n",
    "            choice[2] == choice[3] and choice[4] == choice[5])\n",
    "\n",
    "\n",
    "def is_straight(choice):\n",
    "    return sorted(choice) == list(range(1, 7))\n",
    "\n",
    "\n",
    "def score_all():\n",
    "    return [1.] * 6\n",
    "\n",
    "scoring_rules = [[100, 200, 1000, 2000, 4000, 5000],\n",
    "                 [0, 0, 200, 400, 800, 5000],\n",
    "                 [0, 0, 300, 600, 1200, 5000],\n",
    "                 [0, 0, 400, 800, 1600, 5000],\n",
    "                 [50, 100, 500, 1000, 2000, 5000],\n",
    "                 [0, 0, 600, 1200, 2400, 5000]\n",
    "                 ]\n",
    "\n",
    "def choose_dice(roll):\n",
    "    \"\"\"Choose dice according to scoring rules. Boop Beep.\"\"\"\n",
    "    counts = Counter(roll)\n",
    "    if is_three_pair(roll) and (sum(scoring_rules[die - 1][count - 1] for die, count in counts.items()) < 1500):\n",
    "        choice = score_all()\n",
    "    elif is_straight(roll):\n",
    "        choice = score_all()\n",
    "    else:\n",
    "        picks = set()\n",
    "        for die, count in counts.items():\n",
    "            if scoring_rules[die - 1][count - 1] > 0:\n",
    "                picks.add(die)\n",
    "        choice = [0.] * 6\n",
    "        for i, x in enumerate(roll):\n",
    "            if x in picks:\n",
    "                choice[i] = 1.\n",
    "    return np.array(choice)\n"
   ]
  },
  {
   "cell_type": "code",
   "execution_count": 4,
   "metadata": {},
   "outputs": [],
   "source": [
    "def make_some_features(numbers, clip):\n",
    "    features = set()\n",
    "    combinations = (combo for combo in combos(numbers, 6))\n",
    "    for i, comb in enumerate(combinations):\n",
    "        if i % clip == 0:  # Keeping size reasonable\n",
    "            for perm in perms(comb):\n",
    "                features.add(perm)\n",
    "    return features\n"
   ]
  },
  {
   "cell_type": "code",
   "execution_count": 5,
   "metadata": {},
   "outputs": [],
   "source": [
    "def make_special_features():\n",
    "    special_features = set()\n",
    "    for _ in range(7500):\n",
    "        half = [np.random.randint(1, 6) for _ in range(3)]\n",
    "        half += half\n",
    "        for perm in perms(half):\n",
    "            special_features.add(perm)\n",
    "\n",
    "    for perm in perms([1, 2, 3, 4, 5, 6]):\n",
    "        special_features.add(perm)\n",
    "    \n",
    "    return special_features\n"
   ]
  },
  {
   "cell_type": "code",
   "execution_count": 6,
   "metadata": {},
   "outputs": [
    {
     "data": {
      "text/plain": [
       "(23114, 23114)"
      ]
     },
     "execution_count": 6,
     "metadata": {},
     "output_type": "execute_result"
    }
   ],
   "source": [
    "features = make_some_features(list(range(1, 7)), 2)\n",
    "# special_features = make_special_features()\n",
    "\n",
    "# all_features = [np.array(feature) for feature in special_features]\n",
    "# print(len(all_features))\n",
    "all_features = [np.array(feature) for feature in features]\n",
    "\n",
    "all_labels = [choose_dice(feature) for feature in all_features]\n",
    "all_features = np.array(all_features)\n",
    "all_labels = np.array(all_labels)\n",
    "len(all_features), len(all_labels)"
   ]
  },
  {
   "cell_type": "code",
   "execution_count": 7,
   "metadata": {},
   "outputs": [],
   "source": [
    "def create_dataset(features, labels):\n",
    "    data = {str(i): features[:,i] for i in range(6)}\n",
    "    dataset = pd.DataFrame(data)\n",
    "    label = {'{}_l'.format(i): labels[:,i] for i in range(6)}\n",
    "    label_df = pd.DataFrame(label)\n",
    "    df = pd.concat([dataset, label_df], axis=1, sort=False)\n",
    "    return df\n"
   ]
  },
  {
   "cell_type": "code",
   "execution_count": 8,
   "metadata": {},
   "outputs": [],
   "source": [
    "df = create_dataset(all_features, all_labels)"
   ]
  },
  {
   "cell_type": "code",
   "execution_count": 9,
   "metadata": {},
   "outputs": [
    {
     "data": {
      "text/html": [
       "<div>\n",
       "<style scoped>\n",
       "    .dataframe tbody tr th:only-of-type {\n",
       "        vertical-align: middle;\n",
       "    }\n",
       "\n",
       "    .dataframe tbody tr th {\n",
       "        vertical-align: top;\n",
       "    }\n",
       "\n",
       "    .dataframe thead th {\n",
       "        text-align: right;\n",
       "    }\n",
       "</style>\n",
       "<table border=\"1\" class=\"dataframe\">\n",
       "  <thead>\n",
       "    <tr style=\"text-align: right;\">\n",
       "      <th></th>\n",
       "      <th>0</th>\n",
       "      <th>1</th>\n",
       "      <th>2</th>\n",
       "      <th>3</th>\n",
       "      <th>4</th>\n",
       "      <th>5</th>\n",
       "      <th>0_l</th>\n",
       "      <th>1_l</th>\n",
       "      <th>2_l</th>\n",
       "      <th>3_l</th>\n",
       "      <th>4_l</th>\n",
       "      <th>5_l</th>\n",
       "    </tr>\n",
       "  </thead>\n",
       "  <tbody>\n",
       "    <tr>\n",
       "      <th>10038</th>\n",
       "      <td>2</td>\n",
       "      <td>5</td>\n",
       "      <td>2</td>\n",
       "      <td>5</td>\n",
       "      <td>3</td>\n",
       "      <td>4</td>\n",
       "      <td>0.0</td>\n",
       "      <td>1.0</td>\n",
       "      <td>0.0</td>\n",
       "      <td>1.0</td>\n",
       "      <td>0.0</td>\n",
       "      <td>0.0</td>\n",
       "    </tr>\n",
       "    <tr>\n",
       "      <th>8673</th>\n",
       "      <td>2</td>\n",
       "      <td>5</td>\n",
       "      <td>3</td>\n",
       "      <td>4</td>\n",
       "      <td>6</td>\n",
       "      <td>6</td>\n",
       "      <td>0.0</td>\n",
       "      <td>1.0</td>\n",
       "      <td>0.0</td>\n",
       "      <td>0.0</td>\n",
       "      <td>0.0</td>\n",
       "      <td>0.0</td>\n",
       "    </tr>\n",
       "    <tr>\n",
       "      <th>5917</th>\n",
       "      <td>2</td>\n",
       "      <td>6</td>\n",
       "      <td>6</td>\n",
       "      <td>3</td>\n",
       "      <td>6</td>\n",
       "      <td>6</td>\n",
       "      <td>0.0</td>\n",
       "      <td>1.0</td>\n",
       "      <td>1.0</td>\n",
       "      <td>0.0</td>\n",
       "      <td>1.0</td>\n",
       "      <td>1.0</td>\n",
       "    </tr>\n",
       "    <tr>\n",
       "      <th>11527</th>\n",
       "      <td>6</td>\n",
       "      <td>4</td>\n",
       "      <td>6</td>\n",
       "      <td>1</td>\n",
       "      <td>6</td>\n",
       "      <td>2</td>\n",
       "      <td>1.0</td>\n",
       "      <td>0.0</td>\n",
       "      <td>1.0</td>\n",
       "      <td>1.0</td>\n",
       "      <td>1.0</td>\n",
       "      <td>0.0</td>\n",
       "    </tr>\n",
       "    <tr>\n",
       "      <th>15946</th>\n",
       "      <td>4</td>\n",
       "      <td>4</td>\n",
       "      <td>6</td>\n",
       "      <td>4</td>\n",
       "      <td>3</td>\n",
       "      <td>6</td>\n",
       "      <td>1.0</td>\n",
       "      <td>1.0</td>\n",
       "      <td>0.0</td>\n",
       "      <td>1.0</td>\n",
       "      <td>0.0</td>\n",
       "      <td>0.0</td>\n",
       "    </tr>\n",
       "    <tr>\n",
       "      <th>23060</th>\n",
       "      <td>5</td>\n",
       "      <td>5</td>\n",
       "      <td>1</td>\n",
       "      <td>6</td>\n",
       "      <td>2</td>\n",
       "      <td>5</td>\n",
       "      <td>1.0</td>\n",
       "      <td>1.0</td>\n",
       "      <td>1.0</td>\n",
       "      <td>0.0</td>\n",
       "      <td>0.0</td>\n",
       "      <td>1.0</td>\n",
       "    </tr>\n",
       "    <tr>\n",
       "      <th>21694</th>\n",
       "      <td>2</td>\n",
       "      <td>3</td>\n",
       "      <td>5</td>\n",
       "      <td>1</td>\n",
       "      <td>6</td>\n",
       "      <td>5</td>\n",
       "      <td>0.0</td>\n",
       "      <td>0.0</td>\n",
       "      <td>1.0</td>\n",
       "      <td>1.0</td>\n",
       "      <td>0.0</td>\n",
       "      <td>1.0</td>\n",
       "    </tr>\n",
       "    <tr>\n",
       "      <th>16949</th>\n",
       "      <td>4</td>\n",
       "      <td>6</td>\n",
       "      <td>2</td>\n",
       "      <td>1</td>\n",
       "      <td>6</td>\n",
       "      <td>3</td>\n",
       "      <td>0.0</td>\n",
       "      <td>0.0</td>\n",
       "      <td>0.0</td>\n",
       "      <td>1.0</td>\n",
       "      <td>0.0</td>\n",
       "      <td>0.0</td>\n",
       "    </tr>\n",
       "    <tr>\n",
       "      <th>22006</th>\n",
       "      <td>4</td>\n",
       "      <td>4</td>\n",
       "      <td>3</td>\n",
       "      <td>2</td>\n",
       "      <td>3</td>\n",
       "      <td>4</td>\n",
       "      <td>1.0</td>\n",
       "      <td>1.0</td>\n",
       "      <td>0.0</td>\n",
       "      <td>0.0</td>\n",
       "      <td>0.0</td>\n",
       "      <td>1.0</td>\n",
       "    </tr>\n",
       "    <tr>\n",
       "      <th>4371</th>\n",
       "      <td>2</td>\n",
       "      <td>1</td>\n",
       "      <td>6</td>\n",
       "      <td>4</td>\n",
       "      <td>6</td>\n",
       "      <td>4</td>\n",
       "      <td>0.0</td>\n",
       "      <td>1.0</td>\n",
       "      <td>0.0</td>\n",
       "      <td>0.0</td>\n",
       "      <td>0.0</td>\n",
       "      <td>0.0</td>\n",
       "    </tr>\n",
       "  </tbody>\n",
       "</table>\n",
       "</div>"
      ],
      "text/plain": [
       "       0  1  2  3  4  5  0_l  1_l  2_l  3_l  4_l  5_l\n",
       "10038  2  5  2  5  3  4  0.0  1.0  0.0  1.0  0.0  0.0\n",
       "8673   2  5  3  4  6  6  0.0  1.0  0.0  0.0  0.0  0.0\n",
       "5917   2  6  6  3  6  6  0.0  1.0  1.0  0.0  1.0  1.0\n",
       "11527  6  4  6  1  6  2  1.0  0.0  1.0  1.0  1.0  0.0\n",
       "15946  4  4  6  4  3  6  1.0  1.0  0.0  1.0  0.0  0.0\n",
       "23060  5  5  1  6  2  5  1.0  1.0  1.0  0.0  0.0  1.0\n",
       "21694  2  3  5  1  6  5  0.0  0.0  1.0  1.0  0.0  1.0\n",
       "16949  4  6  2  1  6  3  0.0  0.0  0.0  1.0  0.0  0.0\n",
       "22006  4  4  3  2  3  4  1.0  1.0  0.0  0.0  0.0  1.0\n",
       "4371   2  1  6  4  6  4  0.0  1.0  0.0  0.0  0.0  0.0"
      ]
     },
     "execution_count": 9,
     "metadata": {},
     "output_type": "execute_result"
    }
   ],
   "source": [
    "df.sample(10)"
   ]
  },
  {
   "cell_type": "code",
   "execution_count": 10,
   "metadata": {},
   "outputs": [],
   "source": [
    "X = df[['0', '1', '2', '3', '4', '5']]\n",
    "y = df[['0_l', '1_l', '2_l', '3_l', '4_l', '5_l']]"
   ]
  },
  {
   "cell_type": "code",
   "execution_count": 11,
   "metadata": {},
   "outputs": [],
   "source": [
    "def train_val_test_split(X, \n",
    "                         y,\n",
    "                         train_size=.8,\n",
    "                         val_size=.1,\n",
    "                         test_size=.1,\n",
    "                         random_state=42,\n",
    "                         shuffle=True):\n",
    "    \n",
    "    assert train_size + val_size + test_size == 1\n",
    "        \n",
    "\n",
    "    X_trainval, X_test, y_trainval, y_test = train_test_split(X,\n",
    "                                                              y,\n",
    "                                                              test_size=test_size,\n",
    "                                                              random_state=random_state,\n",
    "                                                              shuffle=shuffle,\n",
    "                                                              stratify=y\n",
    "                                                             )\n",
    "    X_train, X_val, y_train, y_val = train_test_split(X_trainval,\n",
    "                                                      y_trainval,\n",
    "                                                      test_size=val_size / (train_size + val_size),\n",
    "                                                      random_state=random_state,\n",
    "                                                      shuffle=shuffle,\n",
    "                                                      stratify=y_trainval\n",
    "                                                     )\n",
    "    return X_train, X_val, X_test, y_train, y_val, y_test\n"
   ]
  },
  {
   "cell_type": "code",
   "execution_count": 12,
   "metadata": {},
   "outputs": [],
   "source": [
    "X_train, X_val, X_test, y_train, y_val, y_test = train_val_test_split(X, y)"
   ]
  },
  {
   "cell_type": "code",
   "execution_count": 13,
   "metadata": {},
   "outputs": [
    {
     "data": {
      "text/plain": [
       "((18490, 6), (18490, 6))"
      ]
     },
     "execution_count": 13,
     "metadata": {},
     "output_type": "execute_result"
    }
   ],
   "source": [
    "X_train.shape, y_train.shape"
   ]
  },
  {
   "cell_type": "code",
   "execution_count": 14,
   "metadata": {},
   "outputs": [
    {
     "data": {
      "text/plain": [
       "((2312, 6), (2312, 6))"
      ]
     },
     "execution_count": 14,
     "metadata": {},
     "output_type": "execute_result"
    }
   ],
   "source": [
    "X_val.shape, y_val.shape"
   ]
  },
  {
   "cell_type": "code",
   "execution_count": 15,
   "metadata": {},
   "outputs": [
    {
     "data": {
      "text/plain": [
       "((2312, 6), (2312, 6))"
      ]
     },
     "execution_count": 15,
     "metadata": {},
     "output_type": "execute_result"
    }
   ],
   "source": [
    "X_test.shape, y_test.shape"
   ]
  },
  {
   "cell_type": "code",
   "execution_count": 16,
   "metadata": {},
   "outputs": [],
   "source": [
    "model = RandomForestClassifier(n_estimators=1000,\n",
    "                               max_depth=20,\n",
    "                               min_samples_split=3,\n",
    "                               n_jobs=-1,\n",
    "                               )"
   ]
  },
  {
   "cell_type": "code",
   "execution_count": 17,
   "metadata": {},
   "outputs": [
    {
     "data": {
      "text/plain": [
       "RandomForestClassifier(bootstrap=True, class_weight=None, criterion='gini',\n",
       "            max_depth=20, max_features='auto', max_leaf_nodes=None,\n",
       "            min_impurity_decrease=0.0, min_impurity_split=None,\n",
       "            min_samples_leaf=1, min_samples_split=3,\n",
       "            min_weight_fraction_leaf=0.0, n_estimators=1000, n_jobs=-1,\n",
       "            oob_score=False, random_state=None, verbose=0,\n",
       "            warm_start=False)"
      ]
     },
     "execution_count": 17,
     "metadata": {},
     "output_type": "execute_result"
    }
   ],
   "source": [
    "model.fit(X_train, y_train)"
   ]
  },
  {
   "cell_type": "code",
   "execution_count": 18,
   "metadata": {},
   "outputs": [
    {
     "data": {
      "text/plain": [
       "0.7469723183391004"
      ]
     },
     "execution_count": 18,
     "metadata": {},
     "output_type": "execute_result"
    }
   ],
   "source": [
    "model.score(X_val, y_val)"
   ]
  },
  {
   "cell_type": "code",
   "execution_count": 90,
   "metadata": {},
   "outputs": [],
   "source": [
    "def test_model_pred(model, threshold=.422, samples=25):\n",
    "    start = np.random.randint(0, 1392)\n",
    "    print(start)\n",
    "    stop = start + samples\n",
    "    for test in all_features[start:stop]:\n",
    "        print(test)\n",
    "        true = choose_dice(test)\n",
    "        print(true)\n",
    "        pred = model.predict([list(test)])[0]\n",
    "        print(pred)\n",
    "        pred_proba = np.array([round(y[0][1], 3) for y in model.predict_proba([list(test)])])\n",
    "        print(pred_proba)\n",
    "        pred_thresh = (pred_proba > threshold).astype(int)\n",
    "        print(pred_thresh)\n",
    "        result = 'Nailed it' if list(true) == list(pred) else 'Nuts'\n",
    "        print(result)\n",
    "        result = 'Nailed it' if list(true) == list(pred_thresh) else 'Nuts'\n",
    "        print(result)\n",
    "        print"
   ]
  },
  {
   "cell_type": "code",
   "execution_count": 60,
   "metadata": {},
   "outputs": [
    {
     "name": "stdout",
     "output_type": "stream",
     "text": [
      "954\n",
      "[2 3 2 5 2 5]\n",
      "[1. 0. 1. 1. 1. 1.]\n",
      "[1. 0. 1. 1. 1. 1.]\n",
      "Nailed it\n",
      "\n",
      "[1 2 2 3 1 4]\n",
      "[1. 0. 0. 0. 1. 0.]\n",
      "[1. 0. 0. 0. 1. 0.]\n",
      "Nailed it\n",
      "\n",
      "[2 1 6 6 3 1]\n",
      "[0. 1. 0. 0. 0. 1.]\n",
      "[0. 1. 0. 0. 0. 1.]\n",
      "Nailed it\n",
      "\n",
      "[6 4 1 2 1 6]\n",
      "[0. 0. 1. 0. 1. 0.]\n",
      "[0. 0. 1. 0. 1. 0.]\n",
      "Nailed it\n",
      "\n",
      "[1 5 5 6 4 2]\n",
      "[1. 1. 1. 0. 0. 0.]\n",
      "[1. 1. 1. 0. 0. 0.]\n",
      "Nailed it\n",
      "\n",
      "[3 2 2 2 1 4]\n",
      "[0. 1. 1. 1. 1. 0.]\n",
      "[0. 1. 1. 1. 1. 0.]\n",
      "Nailed it\n",
      "\n",
      "[1 5 2 3 2 4]\n",
      "[1. 1. 0. 0. 0. 0.]\n",
      "[1. 1. 0. 0. 0. 0.]\n",
      "Nailed it\n",
      "\n",
      "[2 1 1 6 4 6]\n",
      "[0. 1. 1. 0. 0. 0.]\n",
      "[0. 1. 1. 0. 0. 0.]\n",
      "Nailed it\n",
      "\n",
      "[2 4 5 1 3 2]\n",
      "[0. 0. 1. 1. 0. 0.]\n",
      "[0. 0. 1. 1. 0. 0.]\n",
      "Nailed it\n",
      "\n",
      "[5 4 2 1 2 3]\n",
      "[1. 0. 0. 1. 0. 0.]\n",
      "[1. 0. 0. 1. 0. 0.]\n",
      "Nailed it\n",
      "\n",
      "[6 4 4 6 2 2]\n",
      "[1. 1. 1. 1. 1. 1.]\n",
      "[0. 1. 1. 0. 1. 1.]\n",
      "Nuts\n",
      "\n",
      "[6 1 5 6 5 5]\n",
      "[0. 1. 1. 0. 1. 1.]\n",
      "[0. 1. 1. 0. 1. 1.]\n",
      "Nailed it\n",
      "\n",
      "[6 2 2 2 3 3]\n",
      "[0. 1. 1. 1. 0. 0.]\n",
      "[0. 1. 1. 1. 0. 0.]\n",
      "Nailed it\n",
      "\n",
      "[4 1 3 1 5 3]\n",
      "[0. 1. 0. 1. 1. 0.]\n",
      "[0. 1. 0. 1. 1. 0.]\n",
      "Nailed it\n",
      "\n",
      "[4 5 3 3 1 6]\n",
      "[0. 1. 0. 0. 1. 0.]\n",
      "[0. 1. 0. 0. 1. 0.]\n",
      "Nailed it\n",
      "\n",
      "[2 1 1 4 2 2]\n",
      "[1. 1. 1. 0. 1. 1.]\n",
      "[1. 1. 1. 0. 1. 1.]\n",
      "Nailed it\n",
      "\n",
      "[1 3 2 6 5 5]\n",
      "[1. 0. 0. 0. 1. 1.]\n",
      "[1. 0. 0. 0. 1. 1.]\n",
      "Nailed it\n",
      "\n",
      "[5 2 5 4 1 6]\n",
      "[1. 0. 1. 0. 1. 0.]\n",
      "[1. 0. 1. 0. 1. 0.]\n",
      "Nailed it\n",
      "\n",
      "[2 3 3 2 1 6]\n",
      "[0. 0. 0. 0. 1. 0.]\n",
      "[0. 0. 0. 1. 1. 0.]\n",
      "Nuts\n",
      "\n",
      "[1 1 5 3 4 2]\n",
      "[1. 1. 1. 0. 0. 0.]\n",
      "[1. 1. 1. 0. 0. 0.]\n",
      "Nailed it\n",
      "\n",
      "[1 3 6 5 3 4]\n",
      "[1. 0. 0. 1. 0. 0.]\n",
      "[1. 0. 0. 1. 0. 0.]\n",
      "Nailed it\n",
      "\n",
      "[6 3 2 5 2 5]\n",
      "[0. 0. 0. 1. 0. 1.]\n",
      "[0. 0. 0. 1. 0. 1.]\n",
      "Nailed it\n",
      "\n",
      "[4 6 4 4 6 1]\n",
      "[1. 0. 1. 1. 0. 1.]\n",
      "[1. 0. 1. 1. 0. 1.]\n",
      "Nailed it\n",
      "\n",
      "[1 4 3 3 5 6]\n",
      "[1. 0. 0. 0. 1. 0.]\n",
      "[1. 0. 0. 0. 1. 0.]\n",
      "Nailed it\n",
      "\n",
      "[6 2 5 5 5 4]\n",
      "[0. 0. 1. 1. 1. 0.]\n",
      "[0. 0. 1. 1. 1. 0.]\n",
      "Nailed it\n",
      "\n"
     ]
    }
   ],
   "source": [
    "test_model_pred(model)"
   ]
  },
  {
   "cell_type": "code",
   "execution_count": 21,
   "metadata": {},
   "outputs": [
    {
     "data": {
      "text/plain": [
       "0.8019031141868512"
      ]
     },
     "execution_count": 21,
     "metadata": {},
     "output_type": "execute_result"
    }
   ],
   "source": [
    "extra = ExtraTreesClassifier(bootstrap=True,\n",
    "                             max_depth=25,\n",
    "                             n_jobs=-1,\n",
    "                             min_samples_split=3,\n",
    "                             n_estimators=400)\n",
    "extra.fit(X_train, y_train)\n",
    "extra.score(X_val, y_val)"
   ]
  },
  {
   "cell_type": "code",
   "execution_count": 22,
   "metadata": {},
   "outputs": [
    {
     "name": "stdout",
     "output_type": "stream",
     "text": [
      "1339\n",
      "[2 3 5 1 4 4]\n",
      "[0. 0. 1. 1. 0. 0.]\n",
      "[0. 0. 1. 1. 0. 0.]\n",
      "[5 5 3 6 5 6]\n",
      "[1. 1. 0. 0. 1. 0.]\n",
      "[1. 1. 0. 0. 1. 0.]\n",
      "[3 2 5 4 3 1]\n",
      "[0. 0. 1. 0. 0. 1.]\n",
      "[0. 0. 1. 0. 0. 1.]\n",
      "[3 2 4 4 5 1]\n",
      "[0. 0. 0. 0. 1. 1.]\n",
      "[0. 0. 0. 0. 1. 1.]\n",
      "[6 5 1 6 4 6]\n",
      "[1. 1. 1. 1. 0. 1.]\n",
      "[1. 1. 1. 1. 0. 1.]\n",
      "[2 2 4 5 3 3]\n",
      "[0. 0. 0. 1. 0. 0.]\n",
      "[0. 0. 0. 1. 0. 0.]\n",
      "[4 2 4 3 4 3]\n",
      "[1. 0. 1. 0. 1. 0.]\n",
      "[1. 0. 1. 0. 1. 0.]\n",
      "[1 1 4 2 4 5]\n",
      "[1. 1. 0. 0. 0. 1.]\n",
      "[1. 1. 0. 0. 0. 1.]\n",
      "[6 3 6 2 6 6]\n",
      "[1. 0. 1. 0. 1. 1.]\n",
      "[1. 0. 1. 0. 1. 1.]\n",
      "[3 1 6 5 5 2]\n",
      "[0. 1. 0. 1. 1. 0.]\n",
      "[0. 1. 0. 1. 1. 0.]\n",
      "[3 3 6 4 5 6]\n",
      "[0. 0. 0. 0. 1. 0.]\n",
      "[0. 0. 0. 0. 1. 0.]\n",
      "[5 6 3 5 3 6]\n",
      "[1. 1. 1. 1. 1. 1.]\n",
      "[1. 0. 0. 1. 0. 0.]\n",
      "[6 1 1 3 1 4]\n",
      "[0. 1. 1. 0. 1. 0.]\n",
      "[0. 1. 1. 0. 1. 0.]\n",
      "[4 2 2 5 4 5]\n",
      "[1. 1. 1. 1. 1. 1.]\n",
      "[1. 1. 1. 1. 1. 1.]\n",
      "[2 5 3 2 5 4]\n",
      "[0. 1. 0. 0. 1. 0.]\n",
      "[0. 1. 0. 0. 1. 0.]\n",
      "[1 6 1 5 6 1]\n",
      "[1. 0. 1. 1. 0. 1.]\n",
      "[1. 0. 1. 1. 0. 1.]\n",
      "[3 5 5 5 4 3]\n",
      "[0. 1. 1. 1. 0. 0.]\n",
      "[0. 1. 1. 1. 0. 0.]\n",
      "[6 5 5 1 4 1]\n",
      "[0. 1. 1. 1. 0. 1.]\n",
      "[0. 1. 1. 1. 0. 1.]\n",
      "[2 5 2 4 5 3]\n",
      "[0. 1. 0. 0. 1. 0.]\n",
      "[0. 1. 1. 0. 1. 0.]\n",
      "[5 6 4 3 4 2]\n",
      "[1. 0. 0. 0. 0. 0.]\n",
      "[1. 0. 0. 0. 0. 0.]\n"
     ]
    }
   ],
   "source": [
    "test_model_pred(extra)"
   ]
  },
  {
   "cell_type": "code",
   "execution_count": 23,
   "metadata": {},
   "outputs": [
    {
     "name": "stdout",
     "output_type": "stream",
     "text": [
      "Fitting 5 folds for each of 4 candidates, totalling 20 fits\n"
     ]
    },
    {
     "name": "stderr",
     "output_type": "stream",
     "text": [
      "[Parallel(n_jobs=-1)]: Using backend LokyBackend with 4 concurrent workers.\n"
     ]
    },
    {
     "ename": "KeyboardInterrupt",
     "evalue": "",
     "output_type": "error",
     "traceback": [
      "\u001b[0;31m---------------------------------------------------------------------------\u001b[0m",
      "\u001b[0;31mKeyboardInterrupt\u001b[0m                         Traceback (most recent call last)",
      "\u001b[0;32m<ipython-input-23-1d5f290075a3>\u001b[0m in \u001b[0;36m<module>\u001b[0;34m()\u001b[0m\n\u001b[1;32m      7\u001b[0m                     \u001b[0mcv\u001b[0m\u001b[0;34m=\u001b[0m\u001b[0;36m5\u001b[0m\u001b[0;34m,\u001b[0m\u001b[0;34m\u001b[0m\u001b[0m\n\u001b[1;32m      8\u001b[0m                     verbose=1)\n\u001b[0;32m----> 9\u001b[0;31m \u001b[0mgrid\u001b[0m\u001b[0;34m.\u001b[0m\u001b[0mfit\u001b[0m\u001b[0;34m(\u001b[0m\u001b[0mX_train\u001b[0m\u001b[0;34m,\u001b[0m \u001b[0my_train\u001b[0m\u001b[0;34m)\u001b[0m\u001b[0;34m\u001b[0m\u001b[0m\n\u001b[0m\u001b[1;32m     10\u001b[0m \u001b[0mgrid\u001b[0m\u001b[0;34m.\u001b[0m\u001b[0mbest_params_\u001b[0m\u001b[0;34m,\u001b[0m \u001b[0mgrid\u001b[0m\u001b[0;34m.\u001b[0m\u001b[0mbest_score_\u001b[0m\u001b[0;34m\u001b[0m\u001b[0m\n",
      "\u001b[0;32m/Library/Frameworks/Python.framework/Versions/2.7/lib/python2.7/site-packages/sklearn/model_selection/_search.pyc\u001b[0m in \u001b[0;36mfit\u001b[0;34m(self, X, y, groups, **fit_params)\u001b[0m\n\u001b[1;32m    721\u001b[0m                 \u001b[0;32mreturn\u001b[0m \u001b[0mresults_container\u001b[0m\u001b[0;34m[\u001b[0m\u001b[0;36m0\u001b[0m\u001b[0;34m]\u001b[0m\u001b[0;34m\u001b[0m\u001b[0m\n\u001b[1;32m    722\u001b[0m \u001b[0;34m\u001b[0m\u001b[0m\n\u001b[0;32m--> 723\u001b[0;31m             \u001b[0mself\u001b[0m\u001b[0;34m.\u001b[0m\u001b[0m_run_search\u001b[0m\u001b[0;34m(\u001b[0m\u001b[0mevaluate_candidates\u001b[0m\u001b[0;34m)\u001b[0m\u001b[0;34m\u001b[0m\u001b[0m\n\u001b[0m\u001b[1;32m    724\u001b[0m \u001b[0;34m\u001b[0m\u001b[0m\n\u001b[1;32m    725\u001b[0m         \u001b[0mresults\u001b[0m \u001b[0;34m=\u001b[0m \u001b[0mresults_container\u001b[0m\u001b[0;34m[\u001b[0m\u001b[0;36m0\u001b[0m\u001b[0;34m]\u001b[0m\u001b[0;34m\u001b[0m\u001b[0m\n",
      "\u001b[0;32m/Library/Frameworks/Python.framework/Versions/2.7/lib/python2.7/site-packages/sklearn/model_selection/_search.pyc\u001b[0m in \u001b[0;36m_run_search\u001b[0;34m(self, evaluate_candidates)\u001b[0m\n\u001b[1;32m   1190\u001b[0m     \u001b[0;32mdef\u001b[0m \u001b[0m_run_search\u001b[0m\u001b[0;34m(\u001b[0m\u001b[0mself\u001b[0m\u001b[0;34m,\u001b[0m \u001b[0mevaluate_candidates\u001b[0m\u001b[0;34m)\u001b[0m\u001b[0;34m:\u001b[0m\u001b[0;34m\u001b[0m\u001b[0m\n\u001b[1;32m   1191\u001b[0m         \u001b[0;34m\"\"\"Search all candidates in param_grid\"\"\"\u001b[0m\u001b[0;34m\u001b[0m\u001b[0m\n\u001b[0;32m-> 1192\u001b[0;31m         \u001b[0mevaluate_candidates\u001b[0m\u001b[0;34m(\u001b[0m\u001b[0mParameterGrid\u001b[0m\u001b[0;34m(\u001b[0m\u001b[0mself\u001b[0m\u001b[0;34m.\u001b[0m\u001b[0mparam_grid\u001b[0m\u001b[0;34m)\u001b[0m\u001b[0;34m)\u001b[0m\u001b[0;34m\u001b[0m\u001b[0m\n\u001b[0m\u001b[1;32m   1193\u001b[0m \u001b[0;34m\u001b[0m\u001b[0m\n\u001b[1;32m   1194\u001b[0m \u001b[0;34m\u001b[0m\u001b[0m\n",
      "\u001b[0;32m/Library/Frameworks/Python.framework/Versions/2.7/lib/python2.7/site-packages/sklearn/model_selection/_search.pyc\u001b[0m in \u001b[0;36mevaluate_candidates\u001b[0;34m(candidate_params)\u001b[0m\n\u001b[1;32m    710\u001b[0m                                \u001b[0;32mfor\u001b[0m \u001b[0mparameters\u001b[0m\u001b[0;34m,\u001b[0m \u001b[0;34m(\u001b[0m\u001b[0mtrain\u001b[0m\u001b[0;34m,\u001b[0m \u001b[0mtest\u001b[0m\u001b[0;34m)\u001b[0m\u001b[0;34m\u001b[0m\u001b[0m\n\u001b[1;32m    711\u001b[0m                                in product(candidate_params,\n\u001b[0;32m--> 712\u001b[0;31m                                           cv.split(X, y, groups)))\n\u001b[0m\u001b[1;32m    713\u001b[0m \u001b[0;34m\u001b[0m\u001b[0m\n\u001b[1;32m    714\u001b[0m                 \u001b[0mall_candidate_params\u001b[0m\u001b[0;34m.\u001b[0m\u001b[0mextend\u001b[0m\u001b[0;34m(\u001b[0m\u001b[0mcandidate_params\u001b[0m\u001b[0;34m)\u001b[0m\u001b[0;34m\u001b[0m\u001b[0m\n",
      "\u001b[0;32m/Library/Frameworks/Python.framework/Versions/2.7/lib/python2.7/site-packages/sklearn/externals/joblib/parallel.pyc\u001b[0m in \u001b[0;36m__call__\u001b[0;34m(self, iterable)\u001b[0m\n\u001b[1;32m    932\u001b[0m \u001b[0;34m\u001b[0m\u001b[0m\n\u001b[1;32m    933\u001b[0m             \u001b[0;32mwith\u001b[0m \u001b[0mself\u001b[0m\u001b[0;34m.\u001b[0m\u001b[0m_backend\u001b[0m\u001b[0;34m.\u001b[0m\u001b[0mretrieval_context\u001b[0m\u001b[0;34m(\u001b[0m\u001b[0;34m)\u001b[0m\u001b[0;34m:\u001b[0m\u001b[0;34m\u001b[0m\u001b[0m\n\u001b[0;32m--> 934\u001b[0;31m                 \u001b[0mself\u001b[0m\u001b[0;34m.\u001b[0m\u001b[0mretrieve\u001b[0m\u001b[0;34m(\u001b[0m\u001b[0;34m)\u001b[0m\u001b[0;34m\u001b[0m\u001b[0m\n\u001b[0m\u001b[1;32m    935\u001b[0m             \u001b[0;31m# Make sure that we get a last message telling us we are done\u001b[0m\u001b[0;34m\u001b[0m\u001b[0;34m\u001b[0m\u001b[0m\n\u001b[1;32m    936\u001b[0m             \u001b[0melapsed_time\u001b[0m \u001b[0;34m=\u001b[0m \u001b[0mtime\u001b[0m\u001b[0;34m.\u001b[0m\u001b[0mtime\u001b[0m\u001b[0;34m(\u001b[0m\u001b[0;34m)\u001b[0m \u001b[0;34m-\u001b[0m \u001b[0mself\u001b[0m\u001b[0;34m.\u001b[0m\u001b[0m_start_time\u001b[0m\u001b[0;34m\u001b[0m\u001b[0m\n",
      "\u001b[0;32m/Library/Frameworks/Python.framework/Versions/2.7/lib/python2.7/site-packages/sklearn/externals/joblib/parallel.pyc\u001b[0m in \u001b[0;36mretrieve\u001b[0;34m(self)\u001b[0m\n\u001b[1;32m    831\u001b[0m             \u001b[0;32mtry\u001b[0m\u001b[0;34m:\u001b[0m\u001b[0;34m\u001b[0m\u001b[0m\n\u001b[1;32m    832\u001b[0m                 \u001b[0;32mif\u001b[0m \u001b[0mgetattr\u001b[0m\u001b[0;34m(\u001b[0m\u001b[0mself\u001b[0m\u001b[0;34m.\u001b[0m\u001b[0m_backend\u001b[0m\u001b[0;34m,\u001b[0m \u001b[0;34m'supports_timeout'\u001b[0m\u001b[0;34m,\u001b[0m \u001b[0mFalse\u001b[0m\u001b[0;34m)\u001b[0m\u001b[0;34m:\u001b[0m\u001b[0;34m\u001b[0m\u001b[0m\n\u001b[0;32m--> 833\u001b[0;31m                     \u001b[0mself\u001b[0m\u001b[0;34m.\u001b[0m\u001b[0m_output\u001b[0m\u001b[0;34m.\u001b[0m\u001b[0mextend\u001b[0m\u001b[0;34m(\u001b[0m\u001b[0mjob\u001b[0m\u001b[0;34m.\u001b[0m\u001b[0mget\u001b[0m\u001b[0;34m(\u001b[0m\u001b[0mtimeout\u001b[0m\u001b[0;34m=\u001b[0m\u001b[0mself\u001b[0m\u001b[0;34m.\u001b[0m\u001b[0mtimeout\u001b[0m\u001b[0;34m)\u001b[0m\u001b[0;34m)\u001b[0m\u001b[0;34m\u001b[0m\u001b[0m\n\u001b[0m\u001b[1;32m    834\u001b[0m                 \u001b[0;32melse\u001b[0m\u001b[0;34m:\u001b[0m\u001b[0;34m\u001b[0m\u001b[0m\n\u001b[1;32m    835\u001b[0m                     \u001b[0mself\u001b[0m\u001b[0;34m.\u001b[0m\u001b[0m_output\u001b[0m\u001b[0;34m.\u001b[0m\u001b[0mextend\u001b[0m\u001b[0;34m(\u001b[0m\u001b[0mjob\u001b[0m\u001b[0;34m.\u001b[0m\u001b[0mget\u001b[0m\u001b[0;34m(\u001b[0m\u001b[0;34m)\u001b[0m\u001b[0;34m)\u001b[0m\u001b[0;34m\u001b[0m\u001b[0m\n",
      "\u001b[0;32m/Library/Frameworks/Python.framework/Versions/2.7/lib/python2.7/site-packages/sklearn/externals/joblib/_parallel_backends.pyc\u001b[0m in \u001b[0;36mwrap_future_result\u001b[0;34m(future, timeout)\u001b[0m\n\u001b[1;32m    519\u001b[0m         AsyncResults.get from multiprocessing.\"\"\"\n\u001b[1;32m    520\u001b[0m         \u001b[0;32mtry\u001b[0m\u001b[0;34m:\u001b[0m\u001b[0;34m\u001b[0m\u001b[0m\n\u001b[0;32m--> 521\u001b[0;31m             \u001b[0;32mreturn\u001b[0m \u001b[0mfuture\u001b[0m\u001b[0;34m.\u001b[0m\u001b[0mresult\u001b[0m\u001b[0;34m(\u001b[0m\u001b[0mtimeout\u001b[0m\u001b[0;34m=\u001b[0m\u001b[0mtimeout\u001b[0m\u001b[0;34m)\u001b[0m\u001b[0;34m\u001b[0m\u001b[0m\n\u001b[0m\u001b[1;32m    522\u001b[0m         \u001b[0;32mexcept\u001b[0m \u001b[0mLokyTimeoutError\u001b[0m\u001b[0;34m:\u001b[0m\u001b[0;34m\u001b[0m\u001b[0m\n\u001b[1;32m    523\u001b[0m             \u001b[0;32mraise\u001b[0m \u001b[0mTimeoutError\u001b[0m\u001b[0;34m(\u001b[0m\u001b[0;34m)\u001b[0m\u001b[0;34m\u001b[0m\u001b[0m\n",
      "\u001b[0;32m/Library/Frameworks/Python.framework/Versions/2.7/lib/python2.7/site-packages/sklearn/externals/joblib/externals/loky/_base.pyc\u001b[0m in \u001b[0;36mresult\u001b[0;34m(self, timeout)\u001b[0m\n\u001b[1;32m    426\u001b[0m                     \u001b[0;32mreturn\u001b[0m \u001b[0mself\u001b[0m\u001b[0;34m.\u001b[0m\u001b[0m__get_result\u001b[0m\u001b[0;34m(\u001b[0m\u001b[0;34m)\u001b[0m\u001b[0;34m\u001b[0m\u001b[0m\n\u001b[1;32m    427\u001b[0m \u001b[0;34m\u001b[0m\u001b[0m\n\u001b[0;32m--> 428\u001b[0;31m                 \u001b[0mself\u001b[0m\u001b[0;34m.\u001b[0m\u001b[0m_condition\u001b[0m\u001b[0;34m.\u001b[0m\u001b[0mwait\u001b[0m\u001b[0;34m(\u001b[0m\u001b[0mtimeout\u001b[0m\u001b[0;34m)\u001b[0m\u001b[0;34m\u001b[0m\u001b[0m\n\u001b[0m\u001b[1;32m    429\u001b[0m \u001b[0;34m\u001b[0m\u001b[0m\n\u001b[1;32m    430\u001b[0m                 \u001b[0;32mif\u001b[0m \u001b[0mself\u001b[0m\u001b[0;34m.\u001b[0m\u001b[0m_state\u001b[0m \u001b[0;32min\u001b[0m \u001b[0;34m[\u001b[0m\u001b[0mCANCELLED\u001b[0m\u001b[0;34m,\u001b[0m \u001b[0mCANCELLED_AND_NOTIFIED\u001b[0m\u001b[0;34m]\u001b[0m\u001b[0;34m:\u001b[0m\u001b[0;34m\u001b[0m\u001b[0m\n",
      "\u001b[0;32m/Library/Frameworks/Python.framework/Versions/2.7/lib/python2.7/threading.pyc\u001b[0m in \u001b[0;36mwait\u001b[0;34m(self, timeout)\u001b[0m\n\u001b[1;32m    338\u001b[0m         \u001b[0;32mtry\u001b[0m\u001b[0;34m:\u001b[0m    \u001b[0;31m# restore state no matter what (e.g., KeyboardInterrupt)\u001b[0m\u001b[0;34m\u001b[0m\u001b[0m\n\u001b[1;32m    339\u001b[0m             \u001b[0;32mif\u001b[0m \u001b[0mtimeout\u001b[0m \u001b[0;32mis\u001b[0m \u001b[0mNone\u001b[0m\u001b[0;34m:\u001b[0m\u001b[0;34m\u001b[0m\u001b[0m\n\u001b[0;32m--> 340\u001b[0;31m                 \u001b[0mwaiter\u001b[0m\u001b[0;34m.\u001b[0m\u001b[0macquire\u001b[0m\u001b[0;34m(\u001b[0m\u001b[0;34m)\u001b[0m\u001b[0;34m\u001b[0m\u001b[0m\n\u001b[0m\u001b[1;32m    341\u001b[0m                 \u001b[0;32mif\u001b[0m \u001b[0m__debug__\u001b[0m\u001b[0;34m:\u001b[0m\u001b[0;34m\u001b[0m\u001b[0m\n\u001b[1;32m    342\u001b[0m                     \u001b[0mself\u001b[0m\u001b[0;34m.\u001b[0m\u001b[0m_note\u001b[0m\u001b[0;34m(\u001b[0m\u001b[0;34m\"%s.wait(): got it\"\u001b[0m\u001b[0;34m,\u001b[0m \u001b[0mself\u001b[0m\u001b[0;34m)\u001b[0m\u001b[0;34m\u001b[0m\u001b[0m\n",
      "\u001b[0;31mKeyboardInterrupt\u001b[0m: "
     ]
    }
   ],
   "source": [
    "params = {'n_estimators': [1000, 1500, 2000, 3000]}\n",
    "\n",
    "grid = GridSearchCV(extra,\n",
    "                    param_grid=params,\n",
    "                    scoring='average_precision',\n",
    "                    n_jobs=-1,\n",
    "                    cv=5,\n",
    "                    verbose=1)\n",
    "grid.fit(X_train, y_train)\n",
    "grid.best_params_, grid.best_score_"
   ]
  },
  {
   "cell_type": "code",
   "execution_count": null,
   "metadata": {},
   "outputs": [],
   "source": [
    "params = {'max_depth': [15, 20, 25, 30]}\n",
    "grid = GridSearchCV(extra,\n",
    "                    param_grid=params,\n",
    "                    scoring='average_precision',\n",
    "                    n_jobs=-1,\n",
    "                    cv=5,\n",
    "                    verbose=1)\n",
    "grid.fit(X_train, y_train)\n",
    "grid.best_params_, grid.best_score_"
   ]
  },
  {
   "cell_type": "code",
   "execution_count": null,
   "metadata": {},
   "outputs": [],
   "source": [
    "params = {'min_samples_split': [5, 6, 7, 8]}\n",
    "grid = GridSearchCV(extra,\n",
    "                    param_grid=params,\n",
    "                    scoring='average_precision',\n",
    "                    n_jobs=-1,\n",
    "                    cv=5,\n",
    "                    verbose=1)\n",
    "grid.fit(X_train, y_train)\n",
    "grid.best_params_, grid.best_score_"
   ]
  },
  {
   "cell_type": "code",
   "execution_count": null,
   "metadata": {},
   "outputs": [],
   "source": [
    "params = {'oob_score': [True, False]}\n",
    "grid = GridSearchCV(extra,\n",
    "                    param_grid=params,\n",
    "                    scoring='average_precision',\n",
    "                    n_jobs=-1,\n",
    "                    cv=5,\n",
    "                    verbose=1)\n",
    "grid.fit(X_train, y_train)\n",
    "grid.best_params_, grid.best_score_"
   ]
  },
  {
   "cell_type": "code",
   "execution_count": 24,
   "metadata": {},
   "outputs": [
    {
     "name": "stdout",
     "output_type": "stream",
     "text": [
      "Fitting 5 folds for each of 9 candidates, totalling 45 fits\n"
     ]
    },
    {
     "name": "stderr",
     "output_type": "stream",
     "text": [
      "[Parallel(n_jobs=-1)]: Using backend LokyBackend with 4 concurrent workers.\n",
      "[Parallel(n_jobs=-1)]: Done  45 out of  45 | elapsed: 43.8min finished\n"
     ]
    },
    {
     "data": {
      "text/plain": [
       "({'max_depth': 30,\n",
       "  'min_samples_split': 6,\n",
       "  'n_estimators': 2000,\n",
       "  'oob_score': True},\n",
       " 0.9761724583282346)"
      ]
     },
     "execution_count": 24,
     "metadata": {},
     "output_type": "execute_result"
    }
   ],
   "source": [
    "params = {'min_samples_split': [4, 5, 6],\n",
    "          'max_depth': [27, 30, 33],\n",
    "          'oob_score': [True],\n",
    "          'n_estimators': [2000]}\n",
    "grid = GridSearchCV(extra,\n",
    "                    param_grid=params,\n",
    "                    scoring='average_precision',\n",
    "                    n_jobs=-1,\n",
    "                    cv=5,\n",
    "                    verbose=1)\n",
    "grid.fit(X_train, y_train)\n",
    "grid.best_params_, grid.best_score_"
   ]
  },
  {
   "cell_type": "code",
   "execution_count": null,
   "metadata": {},
   "outputs": [],
   "source": [
    "# params = {'min_samples_split': [3, 4, 5],\n",
    "#           'max_depth': [26, 27, 28],\n",
    "#           'oob_score': [True],\n",
    "#           'n_estimators': [2000]}\n",
    "# grid = GridSearchCV(extra,\n",
    "#                     param_grid=params,\n",
    "#                     scoring='average_precision',\n",
    "#                     n_jobs=-1,\n",
    "#                     cv=5,\n",
    "#                     verbose=1)\n",
    "# grid.fit(X_train, y_train)\n",
    "# grid.best_params_, grid.best_score_"
   ]
  },
  {
   "cell_type": "code",
   "execution_count": 25,
   "metadata": {},
   "outputs": [
    {
     "name": "stdout",
     "output_type": "stream",
     "text": [
      "Fitting 5 folds for each of 6 candidates, totalling 30 fits\n"
     ]
    },
    {
     "name": "stderr",
     "output_type": "stream",
     "text": [
      "[Parallel(n_jobs=-1)]: Using backend LokyBackend with 4 concurrent workers.\n",
      "[Parallel(n_jobs=-1)]: Done  30 out of  30 | elapsed: 25.6min finished\n"
     ]
    },
    {
     "data": {
      "text/plain": [
       "({'n_estimators': 1500}, 0.9762026089530731)"
      ]
     },
     "execution_count": 25,
     "metadata": {},
     "output_type": "execute_result"
    }
   ],
   "source": [
    "params = {'n_estimators': [1250, 1500, 1750, 2000, 2250, 2500]}\n",
    "grid = GridSearchCV(grid.best_estimator_,\n",
    "                    param_grid=params,\n",
    "                    scoring='average_precision',\n",
    "                    n_jobs=-1,\n",
    "                    cv=5,\n",
    "                    verbose=1)\n",
    "grid.fit(X_train, y_train)\n",
    "grid.best_params_, grid.best_score_"
   ]
  },
  {
   "cell_type": "code",
   "execution_count": 26,
   "metadata": {},
   "outputs": [],
   "source": [
    "best = grid.best_estimator_"
   ]
  },
  {
   "cell_type": "code",
   "execution_count": 27,
   "metadata": {},
   "outputs": [
    {
     "data": {
      "text/plain": [
       "0.828719723183391"
      ]
     },
     "execution_count": 27,
     "metadata": {},
     "output_type": "execute_result"
    }
   ],
   "source": [
    "best.score(X_val, y_val)"
   ]
  },
  {
   "cell_type": "code",
   "execution_count": 94,
   "metadata": {},
   "outputs": [
    {
     "name": "stdout",
     "output_type": "stream",
     "text": [
      "558\n",
      "[4 3 1 1 3 5]\n",
      "[0. 0. 1. 1. 0. 1.]\n",
      "[0. 0. 1. 1. 0. 1.]\n",
      "[0.176 0.185 0.912 0.925 0.192 0.891]\n",
      "[0 0 1 1 0 1]\n",
      "Nailed it\n",
      "Nailed it\n",
      "\n",
      "[6 2 3 3 6 5]\n",
      "[0. 0. 0. 0. 0. 1.]\n",
      "[0. 0. 0. 0. 0. 1.]\n",
      "[0.179 0.169 0.203 0.198 0.197 0.916]\n",
      "[0 0 0 0 0 1]\n",
      "Nailed it\n",
      "Nailed it\n",
      "\n",
      "[1 5 4 5 5 6]\n",
      "[1. 1. 0. 1. 1. 0.]\n",
      "[1. 1. 0. 1. 1. 0.]\n",
      "[0.869 0.789 0.145 0.829 0.771 0.122]\n",
      "[1 1 0 1 1 0]\n",
      "Nailed it\n",
      "Nailed it\n",
      "\n",
      "[1 6 6 6 2 5]\n",
      "[1. 1. 1. 1. 0. 1.]\n",
      "[1. 1. 1. 1. 0. 1.]\n",
      "[0.811 0.695 0.701 0.706 0.159 0.769]\n",
      "[1 1 1 1 0 1]\n",
      "Nailed it\n",
      "Nailed it\n",
      "\n",
      "[6 6 1 1 6 5]\n",
      "[1. 1. 1. 1. 1. 1.]\n",
      "[1. 1. 1. 1. 1. 1.]\n",
      "[0.78  0.758 0.849 0.822 0.769 0.784]\n",
      "[1 1 1 1 1 1]\n",
      "Nailed it\n",
      "Nailed it\n",
      "\n",
      "[1 3 5 2 2 5]\n",
      "[1. 0. 1. 0. 0. 1.]\n",
      "[1. 0. 1. 0. 0. 1.]\n",
      "[0.952 0.165 0.848 0.198 0.219 0.846]\n",
      "[1 0 1 0 0 1]\n",
      "Nailed it\n",
      "Nailed it\n",
      "\n",
      "[5 1 1 1 3 6]\n",
      "[1. 1. 1. 1. 0. 0.]\n",
      "[1. 1. 1. 1. 0. 0.]\n",
      "[0.755 0.915 0.907 0.925 0.163 0.107]\n",
      "[1 1 1 1 0 0]\n",
      "Nailed it\n",
      "Nailed it\n",
      "\n",
      "[2 6 3 6 2 6]\n",
      "[0. 1. 0. 1. 0. 1.]\n",
      "[0. 1. 0. 1. 0. 1.]\n",
      "[0.279 0.8   0.254 0.803 0.283 0.811]\n",
      "[0 1 0 1 0 1]\n",
      "Nailed it\n",
      "Nailed it\n",
      "\n",
      "[2 1 5 4 3 4]\n",
      "[0. 1. 1. 0. 0. 0.]\n",
      "[0. 1. 1. 0. 0. 0.]\n",
      "[0.179 0.905 0.898 0.305 0.247 0.304]\n",
      "[0 1 1 0 0 0]\n",
      "Nailed it\n",
      "Nailed it\n",
      "\n",
      "[6 6 6 1 2 5]\n",
      "[1. 1. 1. 1. 0. 1.]\n",
      "[1. 1. 1. 1. 0. 1.]\n",
      "[0.791 0.809 0.793 0.845 0.153 0.827]\n",
      "[1 1 1 1 0 1]\n",
      "Nailed it\n",
      "Nailed it\n",
      "\n",
      "[4 1 4 5 2 3]\n",
      "[0. 1. 0. 1. 0. 0.]\n",
      "[0. 1. 0. 1. 0. 0.]\n",
      "[0.219 0.919 0.238 0.929 0.131 0.184]\n",
      "[0 1 0 1 0 0]\n",
      "Nailed it\n",
      "Nailed it\n",
      "\n",
      "[2 6 4 3 4 4]\n",
      "[0. 0. 1. 0. 1. 1.]\n",
      "[0. 0. 1. 0. 1. 1.]\n",
      "[0.157 0.119 0.606 0.213 0.608 0.601]\n",
      "[0 0 1 0 1 1]\n",
      "Nailed it\n",
      "Nailed it\n",
      "\n",
      "[2 4 6 4 3 4]\n",
      "[0. 1. 0. 1. 0. 1.]\n",
      "[0. 0. 0. 1. 0. 1.]\n",
      "[0.154 0.49  0.089 0.56  0.222 0.534]\n",
      "[0 1 0 1 0 1]\n",
      "Nuts\n",
      "Nailed it\n",
      "\n",
      "[5 2 2 5 2 6]\n",
      "[1. 1. 1. 1. 1. 0.]\n",
      "[1. 0. 0. 1. 0. 0.]\n",
      "[0.9   0.476 0.473 0.897 0.465 0.119]\n",
      "[1 1 1 1 1 0]\n",
      "Nuts\n",
      "Nailed it\n",
      "\n",
      "[6 1 6 6 3 1]\n",
      "[1. 1. 1. 1. 0. 1.]\n",
      "[1. 1. 1. 1. 0. 1.]\n",
      "[0.758 0.866 0.76  0.758 0.175 0.867]\n",
      "[1 1 1 1 0 1]\n",
      "Nailed it\n",
      "Nailed it\n",
      "\n",
      "[4 5 2 3 1 3]\n",
      "[0. 1. 0. 0. 1. 0.]\n",
      "[0. 1. 0. 0. 1. 0.]\n",
      "[0.171 0.911 0.15  0.179 0.942 0.193]\n",
      "[0 1 0 0 1 0]\n",
      "Nailed it\n",
      "Nailed it\n",
      "\n",
      "[4 1 3 3 3 4]\n",
      "[0. 1. 1. 1. 1. 0.]\n",
      "[0. 1. 1. 1. 1. 0.]\n",
      "[0.407 0.934 0.621 0.627 0.658 0.405]\n",
      "[0 1 1 1 1 0]\n",
      "Nailed it\n",
      "Nailed it\n",
      "\n",
      "[1 2 4 4 6 6]\n",
      "[1. 0. 0. 0. 0. 0.]\n",
      "[1. 0. 0. 0. 0. 0.]\n",
      "[0.937 0.216 0.283 0.285 0.238 0.23 ]\n",
      "[1 0 0 0 0 0]\n",
      "Nailed it\n",
      "Nailed it\n",
      "\n",
      "[5 1 3 1 3 1]\n",
      "[1. 1. 0. 1. 0. 1.]\n",
      "[1. 1. 0. 1. 0. 1.]\n",
      "[0.77  0.87  0.137 0.904 0.116 0.898]\n",
      "[1 1 0 1 0 1]\n",
      "Nailed it\n",
      "Nailed it\n",
      "\n",
      "[2 5 6 5 1 2]\n",
      "[0. 1. 0. 1. 1. 0.]\n",
      "[0. 1. 0. 1. 1. 0.]\n",
      "[0.234 0.843 0.125 0.843 0.898 0.201]\n",
      "[0 1 0 1 1 0]\n",
      "Nailed it\n",
      "Nailed it\n",
      "\n",
      "[4 2 5 6 4 5]\n",
      "[0. 0. 1. 0. 0. 1.]\n",
      "[0. 0. 1. 0. 0. 1.]\n",
      "[0.28  0.178 0.804 0.175 0.303 0.823]\n",
      "[0 0 1 0 0 1]\n",
      "Nailed it\n",
      "Nailed it\n",
      "\n",
      "[6 4 5 6 6 3]\n",
      "[1. 0. 1. 1. 1. 0.]\n",
      "[1. 0. 1. 1. 1. 0.]\n",
      "[0.768 0.305 0.867 0.778 0.766 0.269]\n",
      "[1 0 1 1 1 0]\n",
      "Nailed it\n",
      "Nailed it\n",
      "\n",
      "[5 1 6 3 6 5]\n",
      "[1. 1. 0. 0. 0. 1.]\n",
      "[1. 1. 0. 0. 0. 1.]\n",
      "[0.777 0.86  0.321 0.215 0.325 0.751]\n",
      "[1 1 0 0 0 1]\n",
      "Nailed it\n",
      "Nailed it\n",
      "\n",
      "[2 5 4 4 5 2]\n",
      "[1. 1. 1. 1. 1. 1.]\n",
      "[0. 1. 1. 1. 1. 0.]\n",
      "[0.442 0.909 0.518 0.511 0.88  0.469]\n",
      "[0 1 1 1 1 1]\n",
      "Nuts\n",
      "Nuts\n",
      "\n",
      "[1 2 3 2 6 6]\n",
      "[1. 0. 0. 0. 0. 0.]\n",
      "[1. 0. 0. 0. 0. 0.]\n",
      "[0.951 0.352 0.241 0.374 0.232 0.235]\n",
      "[1 0 0 0 0 0]\n",
      "Nailed it\n",
      "Nailed it\n",
      "\n",
      "[3 4 6 3 3 4]\n",
      "[1. 0. 0. 1. 1. 0.]\n",
      "[1. 0. 0. 1. 1. 0.]\n",
      "[0.625 0.376 0.054 0.55  0.592 0.373]\n",
      "[1 0 0 1 1 0]\n",
      "Nailed it\n",
      "Nailed it\n",
      "\n",
      "[5 6 5 1 4 2]\n",
      "[1. 0. 1. 1. 0. 0.]\n",
      "[1. 0. 1. 1. 0. 0.]\n",
      "[0.792 0.158 0.8   0.847 0.248 0.12 ]\n",
      "[1 0 1 1 0 0]\n",
      "Nailed it\n",
      "Nailed it\n",
      "\n",
      "[3 4 3 3 4 4]\n",
      "[1. 1. 1. 1. 1. 1.]\n",
      "[1. 1. 1. 1. 1. 1.]\n",
      "[0.748 0.784 0.738 0.732 0.791 0.802]\n",
      "[1 1 1 1 1 1]\n",
      "Nailed it\n",
      "Nailed it\n",
      "\n",
      "[1 3 1 1 6 1]\n",
      "[1. 0. 1. 1. 0. 1.]\n",
      "[1. 0. 1. 1. 0. 1.]\n",
      "[0.868 0.133 0.853 0.853 0.114 0.848]\n",
      "[1 0 1 1 0 1]\n",
      "Nailed it\n",
      "Nailed it\n",
      "\n",
      "[6 3 3 4 2 4]\n",
      "[0. 0. 0. 0. 0. 0.]\n",
      "[0. 0. 0. 0. 0. 0.]\n",
      "[0.105 0.45  0.442 0.459 0.242 0.456]\n",
      "[0 0 0 1 0 1]\n",
      "Nailed it\n",
      "Nuts\n",
      "\n",
      "[3 6 1 6 5 3]\n",
      "[0. 0. 1. 0. 1. 0.]\n",
      "[0. 0. 1. 0. 1. 0.]\n",
      "[0.265 0.256 0.882 0.237 0.836 0.256]\n",
      "[0 0 1 0 1 0]\n",
      "Nailed it\n",
      "Nailed it\n",
      "\n",
      "[2 2 3 2 3 6]\n",
      "[1. 1. 0. 1. 0. 0.]\n",
      "[1. 1. 0. 1. 0. 0.]\n",
      "[0.714 0.722 0.461 0.752 0.471 0.125]\n",
      "[1 1 1 1 1 0]\n",
      "Nailed it\n",
      "Nuts\n",
      "\n",
      "[1 2 4 2 3 2]\n",
      "[1. 1. 0. 1. 0. 1.]\n",
      "[1. 1. 0. 1. 0. 1.]\n",
      "[0.962 0.537 0.128 0.531 0.339 0.51 ]\n",
      "[1 1 0 1 0 1]\n",
      "Nailed it\n",
      "Nailed it\n",
      "\n",
      "[4 5 1 2 1 2]\n",
      "[0. 1. 1. 0. 1. 0.]\n",
      "[0. 1. 1. 0. 1. 0.]\n",
      "[0.111 0.836 0.944 0.218 0.932 0.253]\n",
      "[0 1 1 0 1 0]\n",
      "Nailed it\n",
      "Nailed it\n",
      "\n",
      "[4 5 3 2 2 2]\n",
      "[0. 1. 0. 1. 1. 1.]\n",
      "[0. 1. 0. 1. 0. 1.]\n",
      "[0.216 0.851 0.258 0.523 0.497 0.511]\n",
      "[0 1 0 1 1 1]\n",
      "Nuts\n",
      "Nailed it\n",
      "\n",
      "[5 2 3 2 1 5]\n",
      "[1. 0. 0. 0. 1. 1.]\n",
      "[1. 0. 0. 0. 1. 1.]\n",
      "[0.865 0.228 0.157 0.239 0.965 0.858]\n",
      "[1 0 0 0 1 1]\n",
      "Nailed it\n",
      "Nailed it\n",
      "\n",
      "[6 5 3 1 1 5]\n",
      "[0. 1. 0. 1. 1. 1.]\n",
      "[0. 1. 0. 1. 1. 1.]\n",
      "[0.14  0.831 0.176 0.868 0.874 0.847]\n",
      "[0 1 0 1 1 1]\n",
      "Nailed it\n",
      "Nailed it\n",
      "\n",
      "[2 6 6 5 5 3]\n",
      "[0. 0. 0. 1. 1. 0.]\n",
      "[0. 0. 0. 1. 1. 0.]\n",
      "[0.203 0.266 0.29  0.841 0.828 0.211]\n",
      "[0 0 0 1 1 0]\n",
      "Nailed it\n",
      "Nailed it\n",
      "\n",
      "[4 4 6 5 3 5]\n",
      "[0. 0. 0. 1. 0. 1.]\n",
      "[0. 0. 0. 1. 0. 1.]\n",
      "[0.282 0.305 0.175 0.85  0.2   0.83 ]\n",
      "[0 0 0 1 0 1]\n",
      "Nailed it\n",
      "Nailed it\n",
      "\n",
      "[4 4 1 1 2 5]\n",
      "[0. 0. 1. 1. 0. 1.]\n",
      "[0. 0. 1. 1. 0. 1.]\n",
      "[0.205 0.17  0.913 0.914 0.121 0.881]\n",
      "[0 0 1 1 0 1]\n",
      "Nailed it\n",
      "Nailed it\n",
      "\n"
     ]
    }
   ],
   "source": [
    "test_model_pred(best, threshold=.45, samples=40)"
   ]
  },
  {
   "cell_type": "code",
   "execution_count": 29,
   "metadata": {},
   "outputs": [],
   "source": [
    "y_pred = [best.predict([test])[0] for test in X_test.values]"
   ]
  },
  {
   "cell_type": "code",
   "execution_count": 30,
   "metadata": {},
   "outputs": [],
   "source": [
    "y_pred = np.array(y_pred)"
   ]
  },
  {
   "cell_type": "code",
   "execution_count": 31,
   "metadata": {},
   "outputs": [
    {
     "data": {
      "text/plain": [
       "3.04022491349481"
      ]
     },
     "execution_count": 31,
     "metadata": {},
     "output_type": "execute_result"
    }
   ],
   "source": [
    "coverage_error(y_pred, y_test)"
   ]
  },
  {
   "cell_type": "code",
   "execution_count": 32,
   "metadata": {},
   "outputs": [
    {
     "name": "stderr",
     "output_type": "stream",
     "text": [
      "/Library/Frameworks/Python.framework/Versions/2.7/lib/python2.7/site-packages/sklearn/metrics/classification.py:1143: UndefinedMetricWarning: F-score is ill-defined and being set to 0.0 in samples with no predicted labels.\n",
      "  'precision', 'predicted', average, warn_for)\n",
      "/Library/Frameworks/Python.framework/Versions/2.7/lib/python2.7/site-packages/sklearn/metrics/classification.py:1145: UndefinedMetricWarning: F-score is ill-defined and being set to 0.0 in samples with no true labels.\n",
      "  'recall', 'true', average, warn_for)\n"
     ]
    },
    {
     "data": {
      "text/plain": [
       "0.9060103943538199"
      ]
     },
     "execution_count": 32,
     "metadata": {},
     "output_type": "execute_result"
    }
   ],
   "source": [
    "f1_score(y_test, y_pred, average= 'samples')"
   ]
  },
  {
   "cell_type": "code",
   "execution_count": 33,
   "metadata": {},
   "outputs": [
    {
     "data": {
      "text/plain": [
       "((2312, 6), (2312, 6))"
      ]
     },
     "execution_count": 33,
     "metadata": {},
     "output_type": "execute_result"
    }
   ],
   "source": [
    "y_pred.shape, y_test.shape"
   ]
  },
  {
   "cell_type": "code",
   "execution_count": 34,
   "metadata": {},
   "outputs": [
    {
     "data": {
      "text/plain": [
       "0_l    1169.0\n",
       "1_l    1170.0\n",
       "2_l    1168.0\n",
       "3_l    1169.0\n",
       "4_l    1166.0\n",
       "5_l    1170.0\n",
       "dtype: float64"
      ]
     },
     "execution_count": 34,
     "metadata": {},
     "output_type": "execute_result"
    }
   ],
   "source": [
    "y_test.sum()"
   ]
  },
  {
   "cell_type": "code",
   "execution_count": 35,
   "metadata": {},
   "outputs": [
    {
     "data": {
      "text/plain": [
       "3.0328719723183393"
      ]
     },
     "execution_count": 35,
     "metadata": {},
     "output_type": "execute_result"
    }
   ],
   "source": [
    "y_test.sum().sum() / len(y_test)"
   ]
  },
  {
   "cell_type": "code",
   "execution_count": 36,
   "metadata": {},
   "outputs": [
    {
     "data": {
      "text/plain": [
       "0.9749525422914274"
      ]
     },
     "execution_count": 36,
     "metadata": {},
     "output_type": "execute_result"
    }
   ],
   "source": [
    "label_ranking_average_precision_score(y_test, y_pred)"
   ]
  },
  {
   "cell_type": "code",
   "execution_count": 39,
   "metadata": {},
   "outputs": [
    {
     "data": {
      "text/plain": [
       "0.9138463830419251"
      ]
     },
     "execution_count": 39,
     "metadata": {},
     "output_type": "execute_result"
    }
   ],
   "source": [
    "average_precision_score(y_test, y_pred)"
   ]
  },
  {
   "cell_type": "code",
   "execution_count": null,
   "metadata": {},
   "outputs": [],
   "source": []
  }
 ],
 "metadata": {
  "kernelspec": {
   "display_name": "Python3.7 (DNNTT)",
   "language": "python",
   "name": "dnnttt"
  },
  "language_info": {
   "codemirror_mode": {
    "name": "ipython",
    "version": 2
   },
   "file_extension": ".py",
   "mimetype": "text/x-python",
   "name": "python",
   "nbconvert_exporter": "python",
   "pygments_lexer": "ipython2",
   "version": "2.7.16"
  }
 },
 "nbformat": 4,
 "nbformat_minor": 4
}
