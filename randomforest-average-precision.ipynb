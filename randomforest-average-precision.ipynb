{
 "cells": [
  {
   "cell_type": "markdown",
   "metadata": {},
   "source": [
    "## Copy of randomforest using average_precision as metric in GridSearchCV.\n",
    "\n",
    "* 1hr aproximate runtime"
   ]
  },
  {
   "cell_type": "code",
   "execution_count": 1,
   "metadata": {},
   "outputs": [],
   "source": [
    "import matplotlib.pyplot as plt\n",
    "import numpy as np\n",
    "import pandas as pd\n",
    "import tensorflow as tf\n",
    "\n",
    "from collections import Counter\n",
    "from itertools import combinations_with_replacement as combos\n",
    "from itertools import permutations as perms\n",
    "from tensorflow.keras import layers, Model\n",
    "from sklearn.ensemble import RandomForestClassifier, ExtraTreesClassifier\n",
    "from sklearn.metrics import coverage_error, f1_score, label_ranking_average_precision_score, average_precision_score\n",
    "from sklearn.model_selection import train_test_split, GridSearchCV\n",
    "from category_encoders import OneHotEncoder\n",
    "from tensorflow.data import Dataset\n"
   ]
  },
  {
   "cell_type": "markdown",
   "metadata": {},
   "source": [
    "Establish game rules."
   ]
  },
  {
   "cell_type": "code",
   "execution_count": 46,
   "metadata": {},
   "outputs": [],
   "source": [
    "scoring_rules = [[100, 200, 1000, 2000, 4000, 5000],\n",
    "                 [0, 0, 200, 400, 800, 5000],\n",
    "                 [0, 0, 300, 600, 1200, 5000],\n",
    "                 [0, 0, 400, 800, 1600, 5000],\n",
    "                 [50, 100, 500, 1000, 2000, 5000],\n",
    "                 [0, 0, 600, 1200, 2400, 5000]\n",
    "                 ]\n",
    "\n",
    "\n",
    "def is_three_pair(choice):\n",
    "    choice = sorted(choice)\n",
    "    return (len(choice) == 6 and choice[0] == choice[1] and\n",
    "            choice[2] == choice[3] and choice[4] == choice[5])\n",
    "\n",
    "\n",
    "def is_straight(choice):\n",
    "    return sorted(choice) == list(range(1, 7))\n",
    "\n",
    "\n",
    "def score_all():\n",
    "    return [1.] * 6\n",
    "\n",
    "\n",
    "def make_labels(roll):\n",
    "    \"\"\"Returns a label for each roll.\"\"\"\n",
    "    counts = Counter(roll)\n",
    "    if is_three_pair(roll) and (sum(scoring_rules[die - 1][count - 1] for die, count in counts.items()) < 1500):\n",
    "        choice = score_all()\n",
    "    elif is_straight(roll):\n",
    "        choice = score_all()\n",
    "    else:\n",
    "        picks = set()\n",
    "        for die, count in counts.items():\n",
    "            if scoring_rules[die - 1][count - 1] > 0:\n",
    "                picks.add(die)\n",
    "        choice = [0.] * 6\n",
    "        for i, x in enumerate(roll):\n",
    "            if x in picks:\n",
    "                choice[i] = 1.\n",
    "    return np.array(choice)\n"
   ]
  },
  {
   "cell_type": "markdown",
   "metadata": {},
   "source": [
    "Make combinations of 6 dice throws."
   ]
  },
  {
   "cell_type": "code",
   "execution_count": 3,
   "metadata": {},
   "outputs": [],
   "source": [
    "def make_some_features(numbers, clip):\n",
    "    features = set()\n",
    "    combinations = (combo for combo in combos(numbers, 6))\n",
    "    for i, comb in enumerate(combinations):\n",
    "        if i % clip == 0:  # Keeping size reasonable\n",
    "            for perm in perms(comb):\n",
    "                features.add(perm)\n",
    "    return features\n"
   ]
  },
  {
   "cell_type": "markdown",
   "metadata": {},
   "source": [
    "Make arrays of throws and coresponding labels."
   ]
  },
  {
   "cell_type": "code",
   "execution_count": 4,
   "metadata": {},
   "outputs": [
    {
     "data": {
      "text/plain": [
       "(23114, 23114)"
      ]
     },
     "execution_count": 4,
     "metadata": {},
     "output_type": "execute_result"
    }
   ],
   "source": [
    "features = make_some_features(list(range(1, 7)), 2)\n",
    "\n",
    "all_features = np.array([np.array(feature) for feature in features])\n",
    "\n",
    "all_labels = np.array([make_labels(feature) for feature in all_features])\n",
    "\n",
    "len(all_features), len(all_labels)"
   ]
  },
  {
   "cell_type": "code",
   "execution_count": 5,
   "metadata": {},
   "outputs": [],
   "source": [
    "def create_dataset(features, labels):\n",
    "    data = {str(i): features[:,i] for i in range(6)}\n",
    "    dataset = pd.DataFrame(data)\n",
    "    label = {'{}_l'.format(i): labels[:,i] for i in range(6)}\n",
    "    label_df = pd.DataFrame(label)\n",
    "    df = pd.concat([dataset, label_df], axis=1, sort=False)\n",
    "    return df"
   ]
  },
  {
   "cell_type": "markdown",
   "metadata": {},
   "source": [
    "Create a DataFrame."
   ]
  },
  {
   "cell_type": "code",
   "execution_count": 6,
   "metadata": {},
   "outputs": [],
   "source": [
    "df = create_dataset(all_features, all_labels)"
   ]
  },
  {
   "cell_type": "code",
   "execution_count": 7,
   "metadata": {},
   "outputs": [
    {
     "data": {
      "text/html": [
       "<div>\n",
       "<style scoped>\n",
       "    .dataframe tbody tr th:only-of-type {\n",
       "        vertical-align: middle;\n",
       "    }\n",
       "\n",
       "    .dataframe tbody tr th {\n",
       "        vertical-align: top;\n",
       "    }\n",
       "\n",
       "    .dataframe thead th {\n",
       "        text-align: right;\n",
       "    }\n",
       "</style>\n",
       "<table border=\"1\" class=\"dataframe\">\n",
       "  <thead>\n",
       "    <tr style=\"text-align: right;\">\n",
       "      <th></th>\n",
       "      <th>0</th>\n",
       "      <th>1</th>\n",
       "      <th>2</th>\n",
       "      <th>3</th>\n",
       "      <th>4</th>\n",
       "      <th>5</th>\n",
       "      <th>0_l</th>\n",
       "      <th>1_l</th>\n",
       "      <th>2_l</th>\n",
       "      <th>3_l</th>\n",
       "      <th>4_l</th>\n",
       "      <th>5_l</th>\n",
       "    </tr>\n",
       "  </thead>\n",
       "  <tbody>\n",
       "    <tr>\n",
       "      <th>21365</th>\n",
       "      <td>2</td>\n",
       "      <td>3</td>\n",
       "      <td>5</td>\n",
       "      <td>5</td>\n",
       "      <td>1</td>\n",
       "      <td>1</td>\n",
       "      <td>0.0</td>\n",
       "      <td>0.0</td>\n",
       "      <td>1.0</td>\n",
       "      <td>1.0</td>\n",
       "      <td>1.0</td>\n",
       "      <td>1.0</td>\n",
       "    </tr>\n",
       "    <tr>\n",
       "      <th>20612</th>\n",
       "      <td>6</td>\n",
       "      <td>5</td>\n",
       "      <td>2</td>\n",
       "      <td>6</td>\n",
       "      <td>5</td>\n",
       "      <td>5</td>\n",
       "      <td>0.0</td>\n",
       "      <td>1.0</td>\n",
       "      <td>0.0</td>\n",
       "      <td>0.0</td>\n",
       "      <td>1.0</td>\n",
       "      <td>1.0</td>\n",
       "    </tr>\n",
       "    <tr>\n",
       "      <th>14333</th>\n",
       "      <td>3</td>\n",
       "      <td>4</td>\n",
       "      <td>3</td>\n",
       "      <td>6</td>\n",
       "      <td>3</td>\n",
       "      <td>1</td>\n",
       "      <td>1.0</td>\n",
       "      <td>0.0</td>\n",
       "      <td>1.0</td>\n",
       "      <td>0.0</td>\n",
       "      <td>1.0</td>\n",
       "      <td>1.0</td>\n",
       "    </tr>\n",
       "    <tr>\n",
       "      <th>5416</th>\n",
       "      <td>4</td>\n",
       "      <td>2</td>\n",
       "      <td>2</td>\n",
       "      <td>4</td>\n",
       "      <td>3</td>\n",
       "      <td>5</td>\n",
       "      <td>0.0</td>\n",
       "      <td>0.0</td>\n",
       "      <td>0.0</td>\n",
       "      <td>0.0</td>\n",
       "      <td>0.0</td>\n",
       "      <td>1.0</td>\n",
       "    </tr>\n",
       "    <tr>\n",
       "      <th>429</th>\n",
       "      <td>6</td>\n",
       "      <td>4</td>\n",
       "      <td>2</td>\n",
       "      <td>4</td>\n",
       "      <td>3</td>\n",
       "      <td>4</td>\n",
       "      <td>0.0</td>\n",
       "      <td>1.0</td>\n",
       "      <td>0.0</td>\n",
       "      <td>1.0</td>\n",
       "      <td>0.0</td>\n",
       "      <td>1.0</td>\n",
       "    </tr>\n",
       "    <tr>\n",
       "      <th>1490</th>\n",
       "      <td>5</td>\n",
       "      <td>6</td>\n",
       "      <td>6</td>\n",
       "      <td>1</td>\n",
       "      <td>4</td>\n",
       "      <td>6</td>\n",
       "      <td>1.0</td>\n",
       "      <td>1.0</td>\n",
       "      <td>1.0</td>\n",
       "      <td>1.0</td>\n",
       "      <td>0.0</td>\n",
       "      <td>1.0</td>\n",
       "    </tr>\n",
       "    <tr>\n",
       "      <th>11539</th>\n",
       "      <td>3</td>\n",
       "      <td>1</td>\n",
       "      <td>6</td>\n",
       "      <td>5</td>\n",
       "      <td>3</td>\n",
       "      <td>6</td>\n",
       "      <td>0.0</td>\n",
       "      <td>1.0</td>\n",
       "      <td>0.0</td>\n",
       "      <td>1.0</td>\n",
       "      <td>0.0</td>\n",
       "      <td>0.0</td>\n",
       "    </tr>\n",
       "    <tr>\n",
       "      <th>9165</th>\n",
       "      <td>1</td>\n",
       "      <td>1</td>\n",
       "      <td>4</td>\n",
       "      <td>2</td>\n",
       "      <td>5</td>\n",
       "      <td>4</td>\n",
       "      <td>1.0</td>\n",
       "      <td>1.0</td>\n",
       "      <td>0.0</td>\n",
       "      <td>0.0</td>\n",
       "      <td>1.0</td>\n",
       "      <td>0.0</td>\n",
       "    </tr>\n",
       "    <tr>\n",
       "      <th>12548</th>\n",
       "      <td>4</td>\n",
       "      <td>5</td>\n",
       "      <td>3</td>\n",
       "      <td>1</td>\n",
       "      <td>4</td>\n",
       "      <td>6</td>\n",
       "      <td>0.0</td>\n",
       "      <td>1.0</td>\n",
       "      <td>0.0</td>\n",
       "      <td>1.0</td>\n",
       "      <td>0.0</td>\n",
       "      <td>0.0</td>\n",
       "    </tr>\n",
       "    <tr>\n",
       "      <th>13071</th>\n",
       "      <td>5</td>\n",
       "      <td>3</td>\n",
       "      <td>2</td>\n",
       "      <td>4</td>\n",
       "      <td>6</td>\n",
       "      <td>4</td>\n",
       "      <td>1.0</td>\n",
       "      <td>0.0</td>\n",
       "      <td>0.0</td>\n",
       "      <td>0.0</td>\n",
       "      <td>0.0</td>\n",
       "      <td>0.0</td>\n",
       "    </tr>\n",
       "  </tbody>\n",
       "</table>\n",
       "</div>"
      ],
      "text/plain": [
       "       0  1  2  3  4  5  0_l  1_l  2_l  3_l  4_l  5_l\n",
       "21365  2  3  5  5  1  1  0.0  0.0  1.0  1.0  1.0  1.0\n",
       "20612  6  5  2  6  5  5  0.0  1.0  0.0  0.0  1.0  1.0\n",
       "14333  3  4  3  6  3  1  1.0  0.0  1.0  0.0  1.0  1.0\n",
       "5416   4  2  2  4  3  5  0.0  0.0  0.0  0.0  0.0  1.0\n",
       "429    6  4  2  4  3  4  0.0  1.0  0.0  1.0  0.0  1.0\n",
       "1490   5  6  6  1  4  6  1.0  1.0  1.0  1.0  0.0  1.0\n",
       "11539  3  1  6  5  3  6  0.0  1.0  0.0  1.0  0.0  0.0\n",
       "9165   1  1  4  2  5  4  1.0  1.0  0.0  0.0  1.0  0.0\n",
       "12548  4  5  3  1  4  6  0.0  1.0  0.0  1.0  0.0  0.0\n",
       "13071  5  3  2  4  6  4  1.0  0.0  0.0  0.0  0.0  0.0"
      ]
     },
     "execution_count": 7,
     "metadata": {},
     "output_type": "execute_result"
    }
   ],
   "source": [
    "df.sample(10)"
   ]
  },
  {
   "cell_type": "markdown",
   "metadata": {},
   "source": [
    "Separate X and y sets and split into training and test sets."
   ]
  },
  {
   "cell_type": "code",
   "execution_count": 8,
   "metadata": {},
   "outputs": [],
   "source": [
    "X = df[['0', '1', '2', '3', '4', '5']]\n",
    "y = df[['0_l', '1_l', '2_l', '3_l', '4_l', '5_l']]"
   ]
  },
  {
   "cell_type": "code",
   "execution_count": 14,
   "metadata": {},
   "outputs": [],
   "source": [
    "X_train, X_test, y_train, y_test = train_test_split(X, y, stratify=y, shuffle=True)"
   ]
  },
  {
   "cell_type": "code",
   "execution_count": 15,
   "metadata": {},
   "outputs": [
    {
     "data": {
      "text/plain": [
       "((17335, 6), (17335, 6))"
      ]
     },
     "execution_count": 15,
     "metadata": {},
     "output_type": "execute_result"
    }
   ],
   "source": [
    "X_train.shape, y_train.shape"
   ]
  },
  {
   "cell_type": "code",
   "execution_count": 16,
   "metadata": {},
   "outputs": [
    {
     "data": {
      "text/plain": [
       "((5779, 6), (5779, 6))"
      ]
     },
     "execution_count": 16,
     "metadata": {},
     "output_type": "execute_result"
    }
   ],
   "source": [
    "X_test.shape, y_test.shape"
   ]
  },
  {
   "cell_type": "markdown",
   "metadata": {},
   "source": [
    "Extra Trees with hyperparameters chosen from earler cross validations."
   ]
  },
  {
   "cell_type": "code",
   "execution_count": 18,
   "metadata": {},
   "outputs": [],
   "source": [
    "extra = ExtraTreesClassifier(bootstrap=True,\n",
    "                             oob_score=True,\n",
    "                             n_jobs=-1,\n",
    "                             n_estimators=2250)"
   ]
  },
  {
   "cell_type": "markdown",
   "metadata": {},
   "source": [
    "Cross validation with grid search on min_sample_split and max_depth."
   ]
  },
  {
   "cell_type": "code",
   "execution_count": 19,
   "metadata": {},
   "outputs": [
    {
     "name": "stdout",
     "output_type": "stream",
     "text": [
      "Fitting 5 folds for each of 9 candidates, totalling 45 fits\n"
     ]
    },
    {
     "name": "stderr",
     "output_type": "stream",
     "text": [
      "[Parallel(n_jobs=-1)]: Using backend LokyBackend with 4 concurrent workers.\n",
      "[Parallel(n_jobs=-1)]: Done  45 out of  45 | elapsed: 44.4min finished\n"
     ]
    },
    {
     "data": {
      "text/plain": [
       "({'max_depth': 30, 'min_samples_split': 6}, 0.9759599000677779)"
      ]
     },
     "execution_count": 19,
     "metadata": {},
     "output_type": "execute_result"
    }
   ],
   "source": [
    "params = {'min_samples_split': [4, 5, 6],\n",
    "          'max_depth': [27, 30, 33]}\n",
    "grid = GridSearchCV(extra,\n",
    "                    param_grid=params,\n",
    "                    scoring='average_precision',\n",
    "                    n_jobs=-1,\n",
    "                    cv=5,\n",
    "                    verbose=1)\n",
    "grid.fit(X_train, y_train)\n",
    "grid.best_params_, grid.best_score_"
   ]
  },
  {
   "cell_type": "markdown",
   "metadata": {},
   "source": [
    "Refine n_estimators with grid search."
   ]
  },
  {
   "cell_type": "code",
   "execution_count": 20,
   "metadata": {},
   "outputs": [
    {
     "name": "stdout",
     "output_type": "stream",
     "text": [
      "Fitting 5 folds for each of 6 candidates, totalling 30 fits\n"
     ]
    },
    {
     "name": "stderr",
     "output_type": "stream",
     "text": [
      "[Parallel(n_jobs=-1)]: Using backend LokyBackend with 4 concurrent workers.\n",
      "[Parallel(n_jobs=-1)]: Done  30 out of  30 | elapsed: 29.8min finished\n"
     ]
    },
    {
     "data": {
      "text/plain": [
       "({'n_estimators': 2000}, 0.9759340084764407)"
      ]
     },
     "execution_count": 20,
     "metadata": {},
     "output_type": "execute_result"
    }
   ],
   "source": [
    "params = {'n_estimators': [1250, 1500, 1750, 2000, 2250, 2500]}\n",
    "grid = GridSearchCV(grid.best_estimator_,\n",
    "                    param_grid=params,\n",
    "                    scoring='average_precision',\n",
    "                    n_jobs=-1,\n",
    "                    cv=5,\n",
    "                    verbose=1)\n",
    "grid.fit(X_train, y_train)\n",
    "grid.best_params_, grid.best_score_"
   ]
  },
  {
   "cell_type": "code",
   "execution_count": 21,
   "metadata": {},
   "outputs": [],
   "source": [
    "best = grid.best_estimator_"
   ]
  },
  {
   "cell_type": "code",
   "execution_count": 22,
   "metadata": {},
   "outputs": [],
   "source": [
    "y_pred = np.array([best.predict([test])[0] for test in X_test.values])"
   ]
  },
  {
   "cell_type": "code",
   "execution_count": 23,
   "metadata": {},
   "outputs": [
    {
     "data": {
      "text/plain": [
       "3.033742862086866"
      ]
     },
     "execution_count": 23,
     "metadata": {},
     "output_type": "execute_result"
    }
   ],
   "source": [
    "y_test.sum().sum() / len(y_test)"
   ]
  },
  {
   "cell_type": "code",
   "execution_count": 24,
   "metadata": {},
   "outputs": [
    {
     "data": {
      "text/plain": [
       "3.0531233777470153"
      ]
     },
     "execution_count": 24,
     "metadata": {},
     "output_type": "execute_result"
    }
   ],
   "source": [
    "coverage_error(y_pred, y_test)"
   ]
  },
  {
   "cell_type": "code",
   "execution_count": 25,
   "metadata": {},
   "outputs": [
    {
     "name": "stderr",
     "output_type": "stream",
     "text": [
      "/Library/Frameworks/Python.framework/Versions/2.7/lib/python2.7/site-packages/sklearn/metrics/classification.py:1143: UndefinedMetricWarning: F-score is ill-defined and being set to 0.0 in samples with no predicted labels.\n",
      "  'precision', 'predicted', average, warn_for)\n",
      "/Library/Frameworks/Python.framework/Versions/2.7/lib/python2.7/site-packages/sklearn/metrics/classification.py:1145: UndefinedMetricWarning: F-score is ill-defined and being set to 0.0 in samples with no true labels.\n",
      "  'recall', 'true', average, warn_for)\n"
     ]
    },
    {
     "data": {
      "text/plain": [
       "0.9027160962703444"
      ]
     },
     "execution_count": 25,
     "metadata": {},
     "output_type": "execute_result"
    }
   ],
   "source": [
    "f1_score(y_test, y_pred, average='samples')"
   ]
  },
  {
   "cell_type": "code",
   "execution_count": 26,
   "metadata": {},
   "outputs": [
    {
     "data": {
      "text/plain": [
       "0.9735207456115055"
      ]
     },
     "execution_count": 26,
     "metadata": {},
     "output_type": "execute_result"
    }
   ],
   "source": [
    "label_ranking_average_precision_score(y_test, y_pred)"
   ]
  },
  {
   "cell_type": "code",
   "execution_count": 27,
   "metadata": {},
   "outputs": [
    {
     "data": {
      "text/plain": [
       "0.909635794804136"
      ]
     },
     "execution_count": 27,
     "metadata": {},
     "output_type": "execute_result"
    }
   ],
   "source": [
    "average_precision_score(y_test, y_pred)"
   ]
  },
  {
   "cell_type": "markdown",
   "metadata": {},
   "source": [
    "Examine individual predictions at the standard 0.5 probability threshold, and at different thresholds."
   ]
  },
  {
   "cell_type": "code",
   "execution_count": 58,
   "metadata": {},
   "outputs": [],
   "source": [
    "def test_model_pred(model, threshold=0.475, samples=25):\n",
    "    \"\"\"Get random sample of rolls from X_test and make predictions.\n",
    "    \n",
    "    Compare prediction precision with probability > 0.5 positive label with\n",
    "    positive label at other thresholds by adjusting threshold.\n",
    "    \n",
    "    Print number of samples.\n",
    "    \n",
    "    :var threshold: float\n",
    "    :var samples: int\n",
    "    \"\"\"\n",
    "    for test in X_test.sample(samples).values:\n",
    "        print(test)\n",
    "        # Create ground truth label.\n",
    "        true = make_labels(test).astype(int)\n",
    "        print(true)\n",
    "        \n",
    "        # Raw probability predictions.\n",
    "        pred_proba = np.array([round(y[0][1], 3) for y in model.predict_proba([list(test)])])\n",
    "        print(pred_proba)\n",
    "        \n",
    "        # Predict 1 if probability > 0.5.\n",
    "        pred = (pred_proba > 0.5).astype(int)\n",
    "        print(pred)\n",
    "        \n",
    "        # Predict 1 if probability > threshold.\n",
    "        pred_thresh = (pred_proba > threshold).astype(int)\n",
    "        print(pred_thresh)\n",
    "        \n",
    "        result = 'Nailed it' if list(true) == list(pred) else 'Nuts'\n",
    "        print(result)\n",
    "        result = 'Nailed it' if list(true) == list(pred_thresh) else 'Nuts'\n",
    "        print(result)\n",
    "        print"
   ]
  },
  {
   "cell_type": "code",
   "execution_count": 60,
   "metadata": {},
   "outputs": [
    {
     "name": "stdout",
     "output_type": "stream",
     "text": [
      "[5 1 4 4 1 3]\n",
      "[1 1 0 0 1 0]\n",
      "[0.861 0.882 0.257 0.3   0.881 0.204]\n",
      "[1 1 0 0 1 0]\n",
      "[1 1 0 0 1 0]\n",
      "Nailed it\n",
      "Nailed it\n",
      "\n",
      "[5 6 4 4 1 5]\n",
      "[1 0 0 0 1 1]\n",
      "[0.811 0.188 0.278 0.272 0.854 0.808]\n",
      "[1 0 0 0 1 1]\n",
      "[1 0 0 0 1 1]\n",
      "Nailed it\n",
      "Nailed it\n",
      "\n",
      "[1 5 4 4 1 4]\n",
      "[1 1 1 1 1 1]\n",
      "[0.893 0.914 0.419 0.41  0.901 0.407]\n",
      "[1 1 0 0 1 0]\n",
      "[1 1 0 0 1 0]\n",
      "Nuts\n",
      "Nuts\n",
      "\n",
      "[3 4 3 5 2 6]\n",
      "[0 0 0 1 0 0]\n",
      "[0.319 0.271 0.302 0.804 0.217 0.102]\n",
      "[0 0 0 1 0 0]\n",
      "[0 0 0 1 0 0]\n",
      "Nailed it\n",
      "Nailed it\n",
      "\n",
      "[1 3 1 5 5 6]\n",
      "[1 0 1 1 1 0]\n",
      "[0.827 0.195 0.818 0.833 0.814 0.207]\n",
      "[1 0 1 1 1 0]\n",
      "[1 0 1 1 1 0]\n",
      "Nailed it\n",
      "Nailed it\n",
      "\n",
      "[1 6 3 3 5 4]\n",
      "[1 0 0 0 1 0]\n",
      "[0.892 0.103 0.23  0.241 0.783 0.197]\n",
      "[1 0 0 0 1 0]\n",
      "[1 0 0 0 1 0]\n",
      "Nailed it\n",
      "Nailed it\n",
      "\n",
      "[2 4 5 2 5 2]\n",
      "[1 0 1 1 1 1]\n",
      "[0.592 0.268 0.823 0.577 0.835 0.574]\n",
      "[1 0 1 1 1 1]\n",
      "[1 0 1 1 1 1]\n",
      "Nailed it\n",
      "Nailed it\n",
      "\n",
      "[4 3 4 1 3 3]\n",
      "[0 1 0 1 1 1]\n",
      "[0.492 0.524 0.503 0.93  0.459 0.508]\n",
      "[0 1 1 1 0 1]\n",
      "[1 1 1 1 0 1]\n",
      "Nuts\n",
      "Nuts\n",
      "\n",
      "[5 4 2 5 5 6]\n",
      "[1 0 0 1 1 0]\n",
      "[0.779 0.16  0.171 0.776 0.778 0.146]\n",
      "[1 0 0 1 1 0]\n",
      "[1 0 0 1 1 0]\n",
      "Nailed it\n",
      "Nailed it\n",
      "\n",
      "[1 6 6 2 2 4]\n",
      "[1 0 0 0 0 0]\n",
      "[0.906 0.287 0.271 0.351 0.37  0.255]\n",
      "[1 0 0 0 0 0]\n",
      "[1 0 0 0 0 0]\n",
      "Nailed it\n",
      "Nailed it\n",
      "\n",
      "[2 2 3 1 6 3]\n",
      "[0 0 0 1 0 0]\n",
      "[0.434 0.417 0.4   0.956 0.097 0.437]\n",
      "[0 0 0 1 0 0]\n",
      "[0 0 0 1 0 0]\n",
      "Nailed it\n",
      "Nailed it\n",
      "\n",
      "[4 3 3 6 4 3]\n",
      "[0 1 1 0 0 1]\n",
      "[0.516 0.534 0.499 0.079 0.496 0.513]\n",
      "[1 1 0 0 0 1]\n",
      "[1 1 1 0 1 1]\n",
      "Nuts\n",
      "Nuts\n",
      "\n",
      "[3 2 2 3 3 6]\n",
      "[1 0 0 1 1 0]\n",
      "[0.563 0.56  0.512 0.54  0.573 0.165]\n",
      "[1 1 1 1 1 0]\n",
      "[1 1 1 1 1 0]\n",
      "Nuts\n",
      "Nuts\n",
      "\n",
      "[4 4 1 5 4 2]\n",
      "[1 1 1 1 1 0]\n",
      "[0.362 0.419 0.896 0.886 0.438 0.189]\n",
      "[0 0 1 1 0 0]\n",
      "[0 0 1 1 0 0]\n",
      "Nuts\n",
      "Nuts\n",
      "\n",
      "[4 1 6 1 6 4]\n",
      "[1 1 1 1 1 1]\n",
      "[0.382 0.831 0.414 0.83  0.407 0.384]\n",
      "[0 1 0 1 0 0]\n",
      "[0 1 0 1 0 0]\n",
      "Nuts\n",
      "Nuts\n",
      "\n",
      "[3 6 3 2 2 1]\n",
      "[0 0 0 0 0 1]\n",
      "[0.397 0.121 0.4   0.45  0.511 0.937]\n",
      "[0 0 0 0 1 1]\n",
      "[0 0 0 0 1 1]\n",
      "Nuts\n",
      "Nuts\n",
      "\n",
      "[1 6 2 2 6 2]\n",
      "[1 0 1 1 0 1]\n",
      "[0.948 0.33  0.461 0.435 0.328 0.441]\n",
      "[1 0 0 0 0 0]\n",
      "[1 0 0 0 0 0]\n",
      "Nuts\n",
      "Nuts\n",
      "\n",
      "[2 2 3 6 2 1]\n",
      "[1 1 0 0 1 1]\n",
      "[0.493 0.533 0.314 0.097 0.526 0.967]\n",
      "[0 1 0 0 1 1]\n",
      "[1 1 0 0 1 1]\n",
      "Nuts\n",
      "Nailed it\n",
      "\n",
      "[3 4 6 3 3 1]\n",
      "[1 0 0 1 1 1]\n",
      "[0.438 0.338 0.096 0.446 0.433 0.922]\n",
      "[0 0 0 0 0 1]\n",
      "[0 0 0 0 0 1]\n",
      "Nuts\n",
      "Nuts\n",
      "\n",
      "[5 1 1 2 5 6]\n",
      "[1 1 1 0 1 0]\n",
      "[0.755 0.843 0.85  0.257 0.755 0.176]\n",
      "[1 1 1 0 1 0]\n",
      "[1 1 1 0 1 0]\n",
      "Nailed it\n",
      "Nailed it\n",
      "\n",
      "[2 3 1 6 2 3]\n",
      "[0 0 1 0 0 0]\n",
      "[0.461 0.316 0.948 0.107 0.408 0.379]\n",
      "[0 0 1 0 0 0]\n",
      "[0 0 1 0 0 0]\n",
      "Nailed it\n",
      "Nailed it\n",
      "\n",
      "[2 6 2 1 4 6]\n",
      "[0 0 0 1 0 0]\n",
      "[0.286 0.264 0.248 0.936 0.239 0.266]\n",
      "[0 0 0 1 0 0]\n",
      "[0 0 0 1 0 0]\n",
      "Nailed it\n",
      "Nailed it\n",
      "\n",
      "[6 5 3 3 6 4]\n",
      "[0 1 0 0 0 0]\n",
      "[0.297 0.916 0.339 0.331 0.293 0.322]\n",
      "[0 1 0 0 0 0]\n",
      "[0 1 0 0 0 0]\n",
      "Nailed it\n",
      "Nailed it\n",
      "\n",
      "[3 3 5 1 5 1]\n",
      "[1 1 1 1 1 1]\n",
      "[0.195 0.186 0.778 0.877 0.766 0.88 ]\n",
      "[0 0 1 1 1 1]\n",
      "[0 0 1 1 1 1]\n",
      "Nuts\n",
      "Nuts\n",
      "\n",
      "[2 2 5 4 3 2]\n",
      "[1 1 1 0 0 1]\n",
      "[0.5   0.499 0.857 0.189 0.292 0.491]\n",
      "[0 0 1 0 0 0]\n",
      "[1 1 1 0 0 1]\n",
      "Nuts\n",
      "Nailed it\n",
      "\n",
      "[1 3 6 4 4 5]\n",
      "[1 0 0 0 0 1]\n",
      "[0.863 0.191 0.13  0.28  0.315 0.833]\n",
      "[1 0 0 0 0 1]\n",
      "[1 0 0 0 0 1]\n",
      "Nailed it\n",
      "Nailed it\n",
      "\n",
      "[1 3 2 3 5 5]\n",
      "[1 0 0 0 1 1]\n",
      "[0.93  0.186 0.213 0.197 0.772 0.769]\n",
      "[1 0 0 0 1 1]\n",
      "[1 0 0 0 1 1]\n",
      "Nailed it\n",
      "Nailed it\n",
      "\n",
      "[3 5 5 2 6 6]\n",
      "[0 1 1 0 0 0]\n",
      "[0.26  0.783 0.806 0.277 0.358 0.344]\n",
      "[0 1 1 0 0 0]\n",
      "[0 1 1 0 0 0]\n",
      "Nailed it\n",
      "Nailed it\n",
      "\n",
      "[1 3 4 3 6 4]\n",
      "[1 0 0 0 0 0]\n",
      "[0.879 0.397 0.447 0.38  0.138 0.526]\n",
      "[1 0 0 0 0 1]\n",
      "[1 0 0 0 0 1]\n",
      "Nuts\n",
      "Nuts\n",
      "\n",
      "[5 2 5 2 3 4]\n",
      "[1 0 1 0 0 0]\n",
      "[0.833 0.437 0.811 0.443 0.338 0.314]\n",
      "[1 0 1 0 0 0]\n",
      "[1 0 1 0 0 0]\n",
      "Nailed it\n",
      "Nailed it\n",
      "\n",
      "[4 1 5 5 4 2]\n",
      "[0 1 1 1 0 0]\n",
      "[0.247 0.933 0.812 0.797 0.236 0.188]\n",
      "[0 1 1 1 0 0]\n",
      "[0 1 1 1 0 0]\n",
      "Nailed it\n",
      "Nailed it\n",
      "\n",
      "[5 3 4 6 4 3]\n",
      "[1 0 0 0 0 0]\n",
      "[0.891 0.349 0.361 0.115 0.371 0.393]\n",
      "[1 0 0 0 0 0]\n",
      "[1 0 0 0 0 0]\n",
      "Nailed it\n",
      "Nailed it\n",
      "\n",
      "[1 2 6 1 2 3]\n",
      "[1 0 0 1 0 0]\n",
      "[0.9   0.458 0.143 0.877 0.436 0.329]\n",
      "[1 0 0 1 0 0]\n",
      "[1 0 0 1 0 0]\n",
      "Nailed it\n",
      "Nailed it\n",
      "\n",
      "[4 6 6 2 3 2]\n",
      "[0 0 0 0 0 0]\n",
      "[0.498 0.421 0.426 0.453 0.411 0.487]\n",
      "[0 0 0 0 0 0]\n",
      "[1 0 0 0 0 1]\n",
      "Nailed it\n",
      "Nuts\n",
      "\n",
      "[4 6 3 5 2 3]\n",
      "[0 0 0 1 0 0]\n",
      "[0.208 0.106 0.286 0.846 0.241 0.286]\n",
      "[0 0 0 1 0 0]\n",
      "[0 0 0 1 0 0]\n",
      "Nailed it\n",
      "Nailed it\n",
      "\n",
      "[3 4 4 4 3 6]\n",
      "[0 1 1 1 0 0]\n",
      "[0.374 0.473 0.523 0.517 0.385 0.1  ]\n",
      "[0 0 1 1 0 0]\n",
      "[0 0 1 1 0 0]\n",
      "Nuts\n",
      "Nuts\n",
      "\n",
      "[1 2 4 3 5 1]\n",
      "[1 0 0 0 1 1]\n",
      "[0.89  0.184 0.146 0.162 0.751 0.894]\n",
      "[1 0 0 0 1 1]\n",
      "[1 0 0 0 1 1]\n",
      "Nailed it\n",
      "Nailed it\n",
      "\n",
      "[6 3 4 6 2 1]\n",
      "[0 0 0 0 0 1]\n",
      "[0.258 0.224 0.272 0.253 0.231 0.888]\n",
      "[0 0 0 0 0 1]\n",
      "[0 0 0 0 0 1]\n",
      "Nailed it\n",
      "Nailed it\n",
      "\n",
      "[5 5 4 5 6 1]\n",
      "[1 1 0 1 0 1]\n",
      "[0.776 0.738 0.175 0.744 0.179 0.883]\n",
      "[1 1 0 1 0 1]\n",
      "[1 1 0 1 0 1]\n",
      "Nailed it\n",
      "Nailed it\n",
      "\n",
      "[3 4 1 3 4 3]\n",
      "[1 0 1 1 0 1]\n",
      "[0.534 0.475 0.91  0.531 0.504 0.51 ]\n",
      "[1 0 1 1 1 1]\n",
      "[1 0 1 1 1 1]\n",
      "Nuts\n",
      "Nuts\n",
      "\n"
     ]
    }
   ],
   "source": [
    "test_model_pred(best, threshold=.475, samples=40)"
   ]
  },
  {
   "cell_type": "code",
   "execution_count": 65,
   "metadata": {},
   "outputs": [],
   "source": [
    "def test_threshold_precision(model, thresholds):\n",
    "    \"\"\"Test array of threshold values and caluculate precition metrics for each.\n",
    "    \n",
    "    Calculate each threshold on a random sample of test data.\n",
    "    Store and return in a dict.\n",
    "    \"\"\"\n",
    "    results = dict()\n",
    "    # This is going to take a while...\n",
    "    size = len(X_test.values) / 10\n",
    "    for threshold in thresholds:\n",
    "        # Get sample of dice throws.\n",
    "        throws = X_test.sample(size).values\n",
    "        \n",
    "        # Make predictions.\n",
    "        y_pred = np.array([best.predict([dice])[0] for dice in throws])\n",
    "        \n",
    "        # Ground truth labels.\n",
    "        true = np.arra([make_labels(dice) for dice in throws])\n",
    "        \n",
    "        # Caluculate metrics.\n",
    "        f_one = f1_score(true, y_pred, average='samples')\n",
    "        label_ranking = label_ranking_average_precision_score(true, y_pred)\n",
    "        average_precision = average_precision_score(true, y_pred)\n",
    "        \n",
    "        # Save result.\n",
    "        results[threshold] = {'f1_score': f_one,\n",
    "                              'Label ranking average precision': label_ranking,\n",
    "                              'Average precision': average_precision}\n",
    "        \n",
    "    return results"
   ]
  },
  {
   "cell_type": "code",
   "execution_count": 66,
   "metadata": {},
   "outputs": [],
   "source": [
    "thresholds = np.linspace(.47, .5, 10)"
   ]
  },
  {
   "cell_type": "code",
   "execution_count": null,
   "metadata": {},
   "outputs": [],
   "source": [
    "threshold_test = test_threshold_precision(best, thresholds)"
   ]
  },
  {
   "cell_type": "code",
   "execution_count": null,
   "metadata": {},
   "outputs": [],
   "source": []
  }
 ],
 "metadata": {
  "kernelspec": {
   "display_name": "Python3.7 (DNNTT)",
   "language": "python",
   "name": "dnnttt"
  },
  "language_info": {
   "codemirror_mode": {
    "name": "ipython",
    "version": 2
   },
   "file_extension": ".py",
   "mimetype": "text/x-python",
   "name": "python",
   "nbconvert_exporter": "python",
   "pygments_lexer": "ipython2",
   "version": "2.7.16"
  }
 },
 "nbformat": 4,
 "nbformat_minor": 4
}
