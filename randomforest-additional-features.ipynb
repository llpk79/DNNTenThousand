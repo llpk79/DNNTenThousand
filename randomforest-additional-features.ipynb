{
 "cells": [
  {
   "cell_type": "code",
   "execution_count": 8,
   "metadata": {},
   "outputs": [],
   "source": [
    "import matplotlib.pyplot as plt\n",
    "import numpy as np\n",
    "import pandas as pd\n",
    "import tensorflow as tf\n",
    "\n",
    "from collections import Counter\n",
    "from itertools import combinations_with_replacement as combos\n",
    "from itertools import permutations as perms\n",
    "from tensorflow.keras import layers, Model\n",
    "from sklearn.ensemble import RandomForestClassifier, ExtraTreesClassifier\n",
    "from sklearn.metrics import coverage_error, f1_score, label_ranking_average_precision_score, average_precision_score\n",
    "from sklearn.model_selection import train_test_split, GridSearchCV\n",
    "from category_encoders import OneHotEncoder\n",
    "from tensorflow.data import Dataset\n"
   ]
  },
  {
   "cell_type": "code",
   "execution_count": 9,
   "metadata": {},
   "outputs": [],
   "source": [
    "def is_three_pair(choice):\n",
    "    choice = sorted(choice)\n",
    "    return (len(choice) == 6 and choice[0] == choice[1] and\n",
    "            choice[2] == choice[3] and choice[4] == choice[5])\n",
    "\n",
    "\n",
    "def is_straight(choice):\n",
    "    return sorted(choice) == list(range(1, 7))\n",
    "\n",
    "\n",
    "def score_all():\n",
    "    return [1.] * 6\n",
    "\n",
    "\n",
    "def choose_dice(roll):\n",
    "    \"\"\"Choose dice according to scoring rules. Boop Beep.\"\"\"\n",
    "    counts = Counter(roll)\n",
    "    if is_three_pair(roll) and (sum(scoring_rules[die - 1][count - 1] for die, count in counts.items()) < 1500):\n",
    "        choice = score_all()\n",
    "    elif is_straight(roll):\n",
    "        choice = score_all()\n",
    "    else:\n",
    "        picks = set()\n",
    "        for die, count in counts.items():\n",
    "            if scoring_rules[die - 1][count - 1] > 0:\n",
    "                picks.add(die)\n",
    "        choice = [0.] * 6\n",
    "        for i, x in enumerate(roll):\n",
    "            if x in picks:\n",
    "                choice[i] = 1.\n",
    "    return np.array(choice)\n",
    "\n",
    "\n",
    "scoring_rules = [[100, 200, 1000, 2000, 4000, 5000],\n",
    "                 [0, 0, 200, 400, 800, 5000],\n",
    "                 [0, 0, 300, 600, 1200, 5000],\n",
    "                 [0, 0, 400, 800, 1600, 5000],\n",
    "                 [50, 100, 500, 1000, 2000, 5000],\n",
    "                 [0, 0, 600, 1200, 2400, 5000]\n",
    "                 ]\n"
   ]
  },
  {
   "cell_type": "code",
   "execution_count": 10,
   "metadata": {},
   "outputs": [],
   "source": [
    "def make_some_features(numbers, clip):\n",
    "    features = set()\n",
    "    combinations = (combo for combo in combos(numbers, 6))\n",
    "    for i, comb in enumerate(combinations):\n",
    "        if i % clip == 0:  # Keeping size reasonable\n",
    "            for perm in perms(comb):\n",
    "                features.add(perm)\n",
    "    return features\n"
   ]
  },
  {
   "cell_type": "code",
   "execution_count": 11,
   "metadata": {},
   "outputs": [],
   "source": [
    "def make_special_features():\n",
    "    special_features = set()\n",
    "    for _ in range(500):\n",
    "        half = [np.random.randint(1, 6) for _ in range(3)]\n",
    "        half += half\n",
    "        for perm in perms(half):\n",
    "            special_features.add(perm)\n",
    "\n",
    "    for perm in perms([1, 2, 3, 4, 5, 6]):\n",
    "        special_features.add(perm)\n",
    "    \n",
    "    return special_features\n"
   ]
  },
  {
   "cell_type": "code",
   "execution_count": 12,
   "metadata": {},
   "outputs": [
    {
     "name": "stdout",
     "output_type": "stream",
     "text": [
      "23114\n",
      "25039\n"
     ]
    },
    {
     "data": {
      "text/plain": [
       "(25039, 25039)"
      ]
     },
     "execution_count": 12,
     "metadata": {},
     "output_type": "execute_result"
    }
   ],
   "source": [
    "features = make_some_features(list(range(1, 7)), 2)\n",
    "special_features = make_special_features()\n",
    "\n",
    "all_features = [np.array(feature) for feature in features]\n",
    "print(len(all_features))\n",
    "all_features += [np.array(feature) for feature in special_features]\n",
    "print(len(all_features))\n",
    "all_labels = [choose_dice(feature) for feature in all_features]\n",
    "all_features = np.array(all_features)\n",
    "all_labels = np.array(all_labels)\n",
    "len(all_features), len(all_labels)"
   ]
  },
  {
   "cell_type": "code",
   "execution_count": 13,
   "metadata": {},
   "outputs": [],
   "source": [
    "def create_dataset(features, labels):\n",
    "    data = {str(i): features[:,i] for i in range(6)}\n",
    "    dataset = pd.DataFrame(data)\n",
    "    label = {'{}_l'.format(i): labels[:,i] for i in range(6)}\n",
    "    label_df = pd.DataFrame(label)\n",
    "    df = pd.concat([dataset, label_df], axis=1, sort=False)\n",
    "    return df"
   ]
  },
  {
   "cell_type": "code",
   "execution_count": 14,
   "metadata": {},
   "outputs": [],
   "source": [
    "df = create_dataset(all_features, all_labels)"
   ]
  },
  {
   "cell_type": "code",
   "execution_count": 15,
   "metadata": {},
   "outputs": [
    {
     "data": {
      "text/html": [
       "<div>\n",
       "<style scoped>\n",
       "    .dataframe tbody tr th:only-of-type {\n",
       "        vertical-align: middle;\n",
       "    }\n",
       "\n",
       "    .dataframe tbody tr th {\n",
       "        vertical-align: top;\n",
       "    }\n",
       "\n",
       "    .dataframe thead th {\n",
       "        text-align: right;\n",
       "    }\n",
       "</style>\n",
       "<table border=\"1\" class=\"dataframe\">\n",
       "  <thead>\n",
       "    <tr style=\"text-align: right;\">\n",
       "      <th></th>\n",
       "      <th>0</th>\n",
       "      <th>1</th>\n",
       "      <th>2</th>\n",
       "      <th>3</th>\n",
       "      <th>4</th>\n",
       "      <th>5</th>\n",
       "      <th>0_l</th>\n",
       "      <th>1_l</th>\n",
       "      <th>2_l</th>\n",
       "      <th>3_l</th>\n",
       "      <th>4_l</th>\n",
       "      <th>5_l</th>\n",
       "    </tr>\n",
       "  </thead>\n",
       "  <tbody>\n",
       "    <tr>\n",
       "      <th>14019</th>\n",
       "      <td>6</td>\n",
       "      <td>3</td>\n",
       "      <td>2</td>\n",
       "      <td>1</td>\n",
       "      <td>6</td>\n",
       "      <td>6</td>\n",
       "      <td>1.0</td>\n",
       "      <td>0.0</td>\n",
       "      <td>0.0</td>\n",
       "      <td>1.0</td>\n",
       "      <td>1.0</td>\n",
       "      <td>1.0</td>\n",
       "    </tr>\n",
       "    <tr>\n",
       "      <th>1992</th>\n",
       "      <td>3</td>\n",
       "      <td>3</td>\n",
       "      <td>2</td>\n",
       "      <td>3</td>\n",
       "      <td>4</td>\n",
       "      <td>4</td>\n",
       "      <td>1.0</td>\n",
       "      <td>1.0</td>\n",
       "      <td>0.0</td>\n",
       "      <td>1.0</td>\n",
       "      <td>0.0</td>\n",
       "      <td>0.0</td>\n",
       "    </tr>\n",
       "    <tr>\n",
       "      <th>11946</th>\n",
       "      <td>6</td>\n",
       "      <td>3</td>\n",
       "      <td>5</td>\n",
       "      <td>1</td>\n",
       "      <td>1</td>\n",
       "      <td>1</td>\n",
       "      <td>0.0</td>\n",
       "      <td>0.0</td>\n",
       "      <td>1.0</td>\n",
       "      <td>1.0</td>\n",
       "      <td>1.0</td>\n",
       "      <td>1.0</td>\n",
       "    </tr>\n",
       "    <tr>\n",
       "      <th>15116</th>\n",
       "      <td>3</td>\n",
       "      <td>4</td>\n",
       "      <td>1</td>\n",
       "      <td>6</td>\n",
       "      <td>6</td>\n",
       "      <td>2</td>\n",
       "      <td>0.0</td>\n",
       "      <td>0.0</td>\n",
       "      <td>1.0</td>\n",
       "      <td>0.0</td>\n",
       "      <td>0.0</td>\n",
       "      <td>0.0</td>\n",
       "    </tr>\n",
       "    <tr>\n",
       "      <th>19386</th>\n",
       "      <td>5</td>\n",
       "      <td>2</td>\n",
       "      <td>4</td>\n",
       "      <td>6</td>\n",
       "      <td>1</td>\n",
       "      <td>5</td>\n",
       "      <td>1.0</td>\n",
       "      <td>0.0</td>\n",
       "      <td>0.0</td>\n",
       "      <td>0.0</td>\n",
       "      <td>1.0</td>\n",
       "      <td>1.0</td>\n",
       "    </tr>\n",
       "    <tr>\n",
       "      <th>6411</th>\n",
       "      <td>3</td>\n",
       "      <td>6</td>\n",
       "      <td>2</td>\n",
       "      <td>3</td>\n",
       "      <td>6</td>\n",
       "      <td>1</td>\n",
       "      <td>0.0</td>\n",
       "      <td>0.0</td>\n",
       "      <td>0.0</td>\n",
       "      <td>0.0</td>\n",
       "      <td>0.0</td>\n",
       "      <td>1.0</td>\n",
       "    </tr>\n",
       "    <tr>\n",
       "      <th>24991</th>\n",
       "      <td>2</td>\n",
       "      <td>6</td>\n",
       "      <td>1</td>\n",
       "      <td>4</td>\n",
       "      <td>5</td>\n",
       "      <td>3</td>\n",
       "      <td>1.0</td>\n",
       "      <td>1.0</td>\n",
       "      <td>1.0</td>\n",
       "      <td>1.0</td>\n",
       "      <td>1.0</td>\n",
       "      <td>1.0</td>\n",
       "    </tr>\n",
       "    <tr>\n",
       "      <th>24933</th>\n",
       "      <td>2</td>\n",
       "      <td>2</td>\n",
       "      <td>4</td>\n",
       "      <td>4</td>\n",
       "      <td>1</td>\n",
       "      <td>1</td>\n",
       "      <td>1.0</td>\n",
       "      <td>1.0</td>\n",
       "      <td>1.0</td>\n",
       "      <td>1.0</td>\n",
       "      <td>1.0</td>\n",
       "      <td>1.0</td>\n",
       "    </tr>\n",
       "    <tr>\n",
       "      <th>5409</th>\n",
       "      <td>2</td>\n",
       "      <td>4</td>\n",
       "      <td>5</td>\n",
       "      <td>3</td>\n",
       "      <td>2</td>\n",
       "      <td>4</td>\n",
       "      <td>0.0</td>\n",
       "      <td>0.0</td>\n",
       "      <td>1.0</td>\n",
       "      <td>0.0</td>\n",
       "      <td>0.0</td>\n",
       "      <td>0.0</td>\n",
       "    </tr>\n",
       "    <tr>\n",
       "      <th>18410</th>\n",
       "      <td>2</td>\n",
       "      <td>2</td>\n",
       "      <td>5</td>\n",
       "      <td>5</td>\n",
       "      <td>2</td>\n",
       "      <td>3</td>\n",
       "      <td>1.0</td>\n",
       "      <td>1.0</td>\n",
       "      <td>1.0</td>\n",
       "      <td>1.0</td>\n",
       "      <td>1.0</td>\n",
       "      <td>0.0</td>\n",
       "    </tr>\n",
       "  </tbody>\n",
       "</table>\n",
       "</div>"
      ],
      "text/plain": [
       "       0  1  2  3  4  5  0_l  1_l  2_l  3_l  4_l  5_l\n",
       "14019  6  3  2  1  6  6  1.0  0.0  0.0  1.0  1.0  1.0\n",
       "1992   3  3  2  3  4  4  1.0  1.0  0.0  1.0  0.0  0.0\n",
       "11946  6  3  5  1  1  1  0.0  0.0  1.0  1.0  1.0  1.0\n",
       "15116  3  4  1  6  6  2  0.0  0.0  1.0  0.0  0.0  0.0\n",
       "19386  5  2  4  6  1  5  1.0  0.0  0.0  0.0  1.0  1.0\n",
       "6411   3  6  2  3  6  1  0.0  0.0  0.0  0.0  0.0  1.0\n",
       "24991  2  6  1  4  5  3  1.0  1.0  1.0  1.0  1.0  1.0\n",
       "24933  2  2  4  4  1  1  1.0  1.0  1.0  1.0  1.0  1.0\n",
       "5409   2  4  5  3  2  4  0.0  0.0  1.0  0.0  0.0  0.0\n",
       "18410  2  2  5  5  2  3  1.0  1.0  1.0  1.0  1.0  0.0"
      ]
     },
     "execution_count": 15,
     "metadata": {},
     "output_type": "execute_result"
    }
   ],
   "source": [
    "df.sample(10)"
   ]
  },
  {
   "cell_type": "code",
   "execution_count": 16,
   "metadata": {},
   "outputs": [],
   "source": [
    "X = df[['0', '1', '2', '3', '4', '5']]\n",
    "y = df[['0_l', '1_l', '2_l', '3_l', '4_l', '5_l']]"
   ]
  },
  {
   "cell_type": "code",
   "execution_count": 17,
   "metadata": {},
   "outputs": [],
   "source": [
    "def train_val_test_split(X, \n",
    "                         y,\n",
    "                         train_size=.8,\n",
    "                         val_size=.1,\n",
    "                         test_size=.1,\n",
    "                         random_state=42,\n",
    "                         shuffle=True):\n",
    "    \n",
    "    assert train_size + val_size + test_size == 1\n",
    "        \n",
    "\n",
    "    X_trainval, X_test, y_trainval, y_test = train_test_split(X,\n",
    "                                                              y,\n",
    "                                                              test_size=test_size,\n",
    "                                                              random_state=random_state,\n",
    "                                                              shuffle=shuffle,\n",
    "                                                              stratify=y\n",
    "                                                             )\n",
    "    X_train, X_val, y_train, y_val = train_test_split(X_trainval,\n",
    "                                                      y_trainval,\n",
    "                                                      test_size=val_size / (train_size + val_size),\n",
    "                                                      random_state=random_state,\n",
    "                                                      shuffle=shuffle,\n",
    "                                                      stratify=y_trainval\n",
    "                                                     )\n",
    "    return X_train, X_val, X_test, y_train, y_val, y_test\n"
   ]
  },
  {
   "cell_type": "code",
   "execution_count": 18,
   "metadata": {},
   "outputs": [],
   "source": [
    "X_train, X_val, X_test, y_train, y_val, y_test = train_val_test_split(X, y)"
   ]
  },
  {
   "cell_type": "code",
   "execution_count": 19,
   "metadata": {},
   "outputs": [
    {
     "data": {
      "text/plain": [
       "((20031, 6), (20031, 6))"
      ]
     },
     "execution_count": 19,
     "metadata": {},
     "output_type": "execute_result"
    }
   ],
   "source": [
    "X_train.shape, y_train.shape"
   ]
  },
  {
   "cell_type": "code",
   "execution_count": 20,
   "metadata": {},
   "outputs": [
    {
     "data": {
      "text/plain": [
       "((2504, 6), (2504, 6))"
      ]
     },
     "execution_count": 20,
     "metadata": {},
     "output_type": "execute_result"
    }
   ],
   "source": [
    "X_val.shape, y_val.shape"
   ]
  },
  {
   "cell_type": "code",
   "execution_count": 21,
   "metadata": {},
   "outputs": [
    {
     "data": {
      "text/plain": [
       "((2504, 6), (2504, 6))"
      ]
     },
     "execution_count": 21,
     "metadata": {},
     "output_type": "execute_result"
    }
   ],
   "source": [
    "X_test.shape, y_test.shape"
   ]
  },
  {
   "cell_type": "code",
   "execution_count": 22,
   "metadata": {},
   "outputs": [],
   "source": [
    "# model = RandomForestClassifier(n_estimators=1000,\n",
    "#                                max_depth=20,\n",
    "#                                min_samples_split=3,\n",
    "#                                n_jobs=-1,\n",
    "#                                )"
   ]
  },
  {
   "cell_type": "code",
   "execution_count": 23,
   "metadata": {},
   "outputs": [],
   "source": [
    "# model.fit(X_train, y_train)"
   ]
  },
  {
   "cell_type": "code",
   "execution_count": 24,
   "metadata": {},
   "outputs": [],
   "source": [
    "# model.score(X_val, y_val)"
   ]
  },
  {
   "cell_type": "code",
   "execution_count": 25,
   "metadata": {},
   "outputs": [],
   "source": [
    "def test_model_pred(model):\n",
    "    start = np.random.randint(0, 1392)\n",
    "    print(start)\n",
    "    stop = start + 25\n",
    "    for test in all_features[start:stop]:\n",
    "        print(test)\n",
    "        true = choose_dice(test)\n",
    "        print(true)\n",
    "        pred = model.predict([list(test)])[0]\n",
    "        print(pred)\n",
    "        result = 'Nailed it' if list(true) == list(pred) else 'Nuts'\n",
    "        print(result)\n",
    "        print"
   ]
  },
  {
   "cell_type": "code",
   "execution_count": 26,
   "metadata": {},
   "outputs": [],
   "source": [
    "# num = np.random.randint(0, 2302)\n",
    "# print(num)\n",
    "# test_model_pred(model, num, num + 20)"
   ]
  },
  {
   "cell_type": "code",
   "execution_count": 27,
   "metadata": {},
   "outputs": [
    {
     "data": {
      "text/plain": [
       "0.7480031948881789"
      ]
     },
     "execution_count": 27,
     "metadata": {},
     "output_type": "execute_result"
    }
   ],
   "source": [
    "extra = ExtraTreesClassifier(bootstrap=True,\n",
    "                             max_depth=25,\n",
    "                             n_jobs=-1,\n",
    "                             min_samples_split=3,\n",
    "                             n_estimators=400)\n",
    "extra.fit(X_train, y_train)\n",
    "extra.score(X_val, y_val)"
   ]
  },
  {
   "cell_type": "code",
   "execution_count": 28,
   "metadata": {},
   "outputs": [
    {
     "name": "stdout",
     "output_type": "stream",
     "text": [
      "979\n",
      "[2 5 1 3 1 4]\n",
      "[0. 1. 1. 0. 1. 0.]\n",
      "[0. 1. 1. 0. 1. 0.]\n",
      "Nailed it\n",
      "\n",
      "[1 4 1 6 3 6]\n",
      "[1. 0. 1. 0. 0. 0.]\n",
      "[1. 0. 1. 0. 0. 0.]\n",
      "Nailed it\n",
      "\n",
      "[4 3 4 2 4 6]\n",
      "[1. 0. 1. 0. 1. 0.]\n",
      "[1. 0. 1. 0. 1. 0.]\n",
      "Nailed it\n",
      "\n",
      "[5 4 3 6 1 4]\n",
      "[1. 0. 0. 0. 1. 0.]\n",
      "[1. 0. 0. 0. 1. 0.]\n",
      "Nailed it\n",
      "\n",
      "[5 2 3 2 5 2]\n",
      "[1. 1. 0. 1. 1. 1.]\n",
      "[1. 1. 1. 1. 1. 1.]\n",
      "Nuts\n",
      "\n",
      "[1 2 6 6 3 2]\n",
      "[1. 0. 0. 0. 0. 0.]\n",
      "[1. 0. 0. 0. 0. 0.]\n",
      "Nailed it\n",
      "\n",
      "[1 4 1 4 5 2]\n",
      "[1. 0. 1. 0. 1. 0.]\n",
      "[1. 0. 1. 0. 1. 0.]\n",
      "Nailed it\n",
      "\n",
      "[6 6 4 1 2 3]\n",
      "[0. 0. 0. 1. 0. 0.]\n",
      "[0. 0. 0. 1. 0. 0.]\n",
      "Nailed it\n",
      "\n",
      "[3 2 2 5 4 4]\n",
      "[0. 0. 0. 1. 0. 0.]\n",
      "[0. 0. 0. 1. 0. 0.]\n",
      "Nailed it\n",
      "\n",
      "[6 1 3 2 6 4]\n",
      "[0. 1. 0. 0. 0. 0.]\n",
      "[0. 1. 0. 0. 0. 0.]\n",
      "Nailed it\n",
      "\n",
      "[2 3 6 6 5 5]\n",
      "[0. 0. 0. 0. 1. 1.]\n",
      "[0. 0. 0. 0. 1. 1.]\n",
      "Nailed it\n",
      "\n",
      "[3 3 1 6 6 5]\n",
      "[0. 0. 1. 0. 0. 1.]\n",
      "[0. 0. 1. 0. 0. 1.]\n",
      "Nailed it\n",
      "\n",
      "[1 3 3 5 2 5]\n",
      "[1. 0. 0. 1. 0. 1.]\n",
      "[1. 0. 0. 1. 0. 1.]\n",
      "Nailed it\n",
      "\n",
      "[4 5 4 5 1 2]\n",
      "[0. 1. 0. 1. 1. 0.]\n",
      "[0. 1. 0. 1. 1. 0.]\n",
      "Nailed it\n",
      "\n",
      "[1 1 6 5 5 3]\n",
      "[1. 1. 0. 1. 1. 0.]\n",
      "[1. 1. 0. 1. 1. 0.]\n",
      "Nailed it\n",
      "\n",
      "[6 4 5 3 5 4]\n",
      "[0. 0. 1. 0. 1. 0.]\n",
      "[0. 0. 1. 0. 1. 0.]\n",
      "Nailed it\n",
      "\n",
      "[3 3 4 4 1 3]\n",
      "[1. 1. 0. 0. 1. 1.]\n",
      "[1. 1. 0. 0. 1. 1.]\n",
      "Nailed it\n",
      "\n",
      "[4 5 6 4 5 2]\n",
      "[0. 1. 0. 0. 1. 0.]\n",
      "[0. 1. 0. 0. 1. 0.]\n",
      "Nailed it\n",
      "\n",
      "[3 5 2 3 6 6]\n",
      "[0. 1. 0. 0. 0. 0.]\n",
      "[0. 1. 0. 0. 0. 0.]\n",
      "Nailed it\n",
      "\n",
      "[5 5 5 6 6 2]\n",
      "[1. 1. 1. 0. 0. 0.]\n",
      "[1. 1. 1. 0. 0. 0.]\n",
      "Nailed it\n",
      "\n",
      "[3 2 6 3 5 6]\n",
      "[0. 0. 0. 0. 1. 0.]\n",
      "[0. 0. 0. 0. 1. 0.]\n",
      "Nailed it\n",
      "\n",
      "[6 1 1 5 6 6]\n",
      "[1. 1. 1. 1. 1. 1.]\n",
      "[1. 1. 1. 1. 1. 1.]\n",
      "Nailed it\n",
      "\n",
      "[6 3 1 1 1 4]\n",
      "[0. 0. 1. 1. 1. 0.]\n",
      "[0. 0. 1. 1. 1. 0.]\n",
      "Nailed it\n",
      "\n",
      "[6 4 1 1 1 4]\n",
      "[0. 0. 1. 1. 1. 0.]\n",
      "[0. 0. 1. 1. 1. 0.]\n",
      "Nailed it\n",
      "\n",
      "[4 1 4 1 2 1]\n",
      "[0. 1. 0. 1. 0. 1.]\n",
      "[0. 1. 0. 1. 0. 1.]\n",
      "Nailed it\n",
      "\n"
     ]
    }
   ],
   "source": [
    "test_model_pred(extra)"
   ]
  },
  {
   "cell_type": "code",
   "execution_count": 29,
   "metadata": {},
   "outputs": [],
   "source": [
    "# params = {'n_estimators': [1000, 1500, 2000, 3000]}\n",
    "\n",
    "# grid = GridSearchCV(extra,\n",
    "#                     param_grid=params,\n",
    "#                     scoring='average_precision',\n",
    "#                     n_jobs=-1,\n",
    "#                     cv=5,\n",
    "#                     verbose=1)\n",
    "# grid.fit(X_train, y_train)\n",
    "# grid.best_params_, grid.best_score_"
   ]
  },
  {
   "cell_type": "code",
   "execution_count": 30,
   "metadata": {},
   "outputs": [],
   "source": [
    "# params = {'max_depth': [15, 20, 25, 30]}\n",
    "# grid = GridSearchCV(extra,\n",
    "#                     param_grid=params,\n",
    "#                     scoring='f1_samples',\n",
    "#                     n_jobs=-1,\n",
    "#                     cv=5,\n",
    "#                     verbose=1)\n",
    "# grid.fit(X_train, y_train)\n",
    "# grid.best_params_, grid.best_score_"
   ]
  },
  {
   "cell_type": "code",
   "execution_count": 31,
   "metadata": {},
   "outputs": [],
   "source": [
    "# params = {'min_samples_split': [5, 6, 7, 8]}\n",
    "# grid = GridSearchCV(extra,\n",
    "#                     param_grid=params,\n",
    "#                     scoring='f1_samples',\n",
    "#                     n_jobs=-1,\n",
    "#                     cv=5,\n",
    "#                     verbose=1)\n",
    "# grid.fit(X_train, y_train)\n",
    "# grid.best_params_, grid.best_score_"
   ]
  },
  {
   "cell_type": "code",
   "execution_count": 32,
   "metadata": {},
   "outputs": [],
   "source": [
    "# params = {'oob_score': [True, False]}\n",
    "# grid = GridSearchCV(extra,\n",
    "#                     param_grid=params,\n",
    "#                     scoring='f1_samples',\n",
    "#                     n_jobs=-1,\n",
    "#                     cv=5,\n",
    "#                     verbose=1)\n",
    "# grid.fit(X_train, y_train)\n",
    "# grid.best_params_, grid.best_score_"
   ]
  },
  {
   "cell_type": "code",
   "execution_count": 33,
   "metadata": {},
   "outputs": [
    {
     "name": "stdout",
     "output_type": "stream",
     "text": [
      "Fitting 5 folds for each of 9 candidates, totalling 45 fits\n"
     ]
    },
    {
     "name": "stderr",
     "output_type": "stream",
     "text": [
      "[Parallel(n_jobs=-1)]: Using backend LokyBackend with 4 concurrent workers.\n",
      "[Parallel(n_jobs=-1)]: Done  45 out of  45 | elapsed: 47.3min finished\n"
     ]
    },
    {
     "data": {
      "text/plain": [
       "({'max_depth': 33,\n",
       "  'min_samples_split': 6,\n",
       "  'n_estimators': 2000,\n",
       "  'oob_score': True},\n",
       " 0.9608719752519872)"
      ]
     },
     "execution_count": 33,
     "metadata": {},
     "output_type": "execute_result"
    }
   ],
   "source": [
    "params = {'min_samples_split': [4, 5, 6],\n",
    "          'max_depth': [27, 30, 33],\n",
    "          'oob_score': [True],\n",
    "          'n_estimators': [2000]}\n",
    "grid = GridSearchCV(extra,\n",
    "                    param_grid=params,\n",
    "                    scoring='average_precision',\n",
    "                    n_jobs=-1,\n",
    "                    cv=5,\n",
    "                    verbose=1)\n",
    "grid.fit(X_train, y_train)\n",
    "grid.best_params_, grid.best_score_"
   ]
  },
  {
   "cell_type": "code",
   "execution_count": 34,
   "metadata": {},
   "outputs": [],
   "source": [
    "# params = {'min_samples_split': [3, 4, 5],\n",
    "#           'max_depth': [26, 27, 28],\n",
    "#           'oob_score': [True],\n",
    "#           'n_estimators': [2000]}\n",
    "# grid = GridSearchCV(extra,\n",
    "#                     param_grid=params,\n",
    "#                     scoring='f1_samples',\n",
    "#                     n_jobs=-1,\n",
    "#                     cv=5,\n",
    "#                     verbose=1)\n",
    "# grid.fit(X_train, y_train)\n",
    "# grid.best_params_, grid.best_score_"
   ]
  },
  {
   "cell_type": "code",
   "execution_count": 35,
   "metadata": {},
   "outputs": [
    {
     "name": "stdout",
     "output_type": "stream",
     "text": [
      "Fitting 5 folds for each of 6 candidates, totalling 30 fits\n"
     ]
    },
    {
     "name": "stderr",
     "output_type": "stream",
     "text": [
      "[Parallel(n_jobs=-1)]: Using backend LokyBackend with 4 concurrent workers.\n",
      "[Parallel(n_jobs=-1)]: Done  30 out of  30 | elapsed: 28.5min finished\n"
     ]
    },
    {
     "data": {
      "text/plain": [
       "({'n_estimators': 2250}, 0.9608590931565371)"
      ]
     },
     "execution_count": 35,
     "metadata": {},
     "output_type": "execute_result"
    }
   ],
   "source": [
    "params = {'n_estimators': [1250, 1500, 1750, 2000, 2250, 2500]}\n",
    "grid = GridSearchCV(grid.best_estimator_,\n",
    "                    param_grid=params,\n",
    "                    scoring='average_precision',\n",
    "                    n_jobs=-1,\n",
    "                    cv=5,\n",
    "                    verbose=1)\n",
    "grid.fit(X_train, y_train)\n",
    "grid.best_params_, grid.best_score_"
   ]
  },
  {
   "cell_type": "code",
   "execution_count": 36,
   "metadata": {},
   "outputs": [],
   "source": [
    "best = grid.best_estimator_"
   ]
  },
  {
   "cell_type": "code",
   "execution_count": 37,
   "metadata": {},
   "outputs": [
    {
     "data": {
      "text/plain": [
       "0.7651757188498403"
      ]
     },
     "execution_count": 37,
     "metadata": {},
     "output_type": "execute_result"
    }
   ],
   "source": [
    "best.score(X_val, y_val)"
   ]
  },
  {
   "cell_type": "code",
   "execution_count": 52,
   "metadata": {},
   "outputs": [
    {
     "name": "stdout",
     "output_type": "stream",
     "text": [
      "1105\n",
      "[5 5 2 2 4 3]\n",
      "[1. 1. 0. 0. 0. 0.]\n",
      "[1. 1. 0. 0. 0. 0.]\n",
      "Nailed it\n",
      "\n",
      "[3 1 1 4 2 2]\n",
      "[0. 1. 1. 0. 0. 0.]\n",
      "[0. 1. 1. 0. 0. 0.]\n",
      "Nailed it\n",
      "\n",
      "[4 2 3 6 6 5]\n",
      "[0. 0. 0. 0. 0. 1.]\n",
      "[0. 0. 0. 0. 0. 1.]\n",
      "Nailed it\n",
      "\n",
      "[1 2 4 1 3 3]\n",
      "[1. 0. 0. 1. 0. 0.]\n",
      "[1. 0. 0. 1. 0. 0.]\n",
      "Nailed it\n",
      "\n",
      "[6 3 5 5 1 1]\n",
      "[0. 0. 1. 1. 1. 1.]\n",
      "[0. 0. 1. 1. 1. 1.]\n",
      "Nailed it\n",
      "\n",
      "[4 5 2 4 2 5]\n",
      "[1. 1. 1. 1. 1. 1.]\n",
      "[1. 1. 1. 1. 1. 1.]\n",
      "Nailed it\n",
      "\n",
      "[4 3 4 3 4 2]\n",
      "[1. 0. 1. 0. 1. 0.]\n",
      "[1. 1. 1. 1. 1. 0.]\n",
      "Nuts\n",
      "\n",
      "[6 5 4 3 2 4]\n",
      "[0. 1. 0. 0. 0. 0.]\n",
      "[0. 1. 0. 0. 0. 0.]\n",
      "Nailed it\n",
      "\n",
      "[5 6 6 3 6 6]\n",
      "[1. 1. 1. 0. 1. 1.]\n",
      "[1. 1. 1. 0. 1. 1.]\n",
      "Nailed it\n",
      "\n",
      "[6 2 1 4 6 6]\n",
      "[1. 0. 1. 0. 1. 1.]\n",
      "[1. 0. 1. 0. 1. 1.]\n",
      "Nailed it\n",
      "\n",
      "[3 1 3 1 6 6]\n",
      "[1. 1. 1. 1. 1. 1.]\n",
      "[0. 1. 0. 1. 0. 0.]\n",
      "Nuts\n",
      "\n",
      "[1 3 2 5 3 4]\n",
      "[1. 0. 0. 1. 0. 0.]\n",
      "[1. 0. 0. 1. 0. 0.]\n",
      "Nailed it\n",
      "\n",
      "[5 4 1 2 3 4]\n",
      "[1. 0. 1. 0. 0. 0.]\n",
      "[1. 0. 1. 0. 0. 0.]\n",
      "Nailed it\n",
      "\n",
      "[1 3 4 1 6 1]\n",
      "[1. 0. 0. 1. 0. 1.]\n",
      "[1. 0. 0. 1. 0. 1.]\n",
      "Nailed it\n",
      "\n",
      "[6 2 1 6 4 2]\n",
      "[0. 0. 1. 0. 0. 0.]\n",
      "[0. 0. 1. 0. 0. 0.]\n",
      "Nailed it\n",
      "\n",
      "[4 6 3 3 3 3]\n",
      "[0. 0. 1. 1. 1. 1.]\n",
      "[0. 0. 1. 1. 1. 1.]\n",
      "Nailed it\n",
      "\n",
      "[4 2 2 3 5 4]\n",
      "[0. 0. 0. 0. 1. 0.]\n",
      "[0. 0. 0. 0. 1. 0.]\n",
      "Nailed it\n",
      "\n",
      "[3 4 4 5 2 2]\n",
      "[0. 0. 0. 1. 0. 0.]\n",
      "[0. 0. 0. 1. 0. 0.]\n",
      "Nailed it\n",
      "\n",
      "[5 2 6 1 5 3]\n",
      "[1. 0. 0. 1. 1. 0.]\n",
      "[1. 0. 0. 1. 1. 0.]\n",
      "Nailed it\n",
      "\n",
      "[3 3 5 6 3 3]\n",
      "[1. 1. 1. 0. 1. 1.]\n",
      "[1. 1. 1. 0. 1. 1.]\n",
      "Nailed it\n",
      "\n",
      "[3 3 2 5 2 5]\n",
      "[1. 1. 1. 1. 1. 1.]\n",
      "[1. 1. 1. 1. 1. 1.]\n",
      "Nailed it\n",
      "\n",
      "[3 3 1 2 6 3]\n",
      "[1. 1. 1. 0. 0. 1.]\n",
      "[0. 1. 1. 0. 0. 1.]\n",
      "Nuts\n",
      "\n",
      "[4 1 2 5 2 5]\n",
      "[0. 1. 0. 1. 0. 1.]\n",
      "[0. 1. 0. 1. 0. 1.]\n",
      "Nailed it\n",
      "\n",
      "[4 4 4 1 2 5]\n",
      "[1. 1. 1. 1. 0. 1.]\n",
      "[1. 1. 1. 1. 0. 1.]\n",
      "Nailed it\n",
      "\n",
      "[1 1 5 4 3 5]\n",
      "[1. 1. 1. 0. 0. 1.]\n",
      "[1. 1. 1. 0. 0. 1.]\n",
      "Nailed it\n",
      "\n"
     ]
    }
   ],
   "source": [
    "test_model_pred(best)"
   ]
  },
  {
   "cell_type": "code",
   "execution_count": 39,
   "metadata": {},
   "outputs": [],
   "source": [
    "y_pred = [best.predict([test])[0] for test in X_test.values]"
   ]
  },
  {
   "cell_type": "code",
   "execution_count": 40,
   "metadata": {},
   "outputs": [
    {
     "data": {
      "text/plain": [
       "0_l    0.0\n",
       "1_l    1.0\n",
       "2_l    1.0\n",
       "3_l    1.0\n",
       "4_l    1.0\n",
       "5_l    0.0\n",
       "Name: 3165, dtype: float64"
      ]
     },
     "execution_count": 40,
     "metadata": {},
     "output_type": "execute_result"
    }
   ],
   "source": [
    "y_test.iloc[0]"
   ]
  },
  {
   "cell_type": "code",
   "execution_count": 41,
   "metadata": {},
   "outputs": [
    {
     "data": {
      "text/plain": [
       "[array([0., 1., 1., 1., 1., 0.]),\n",
       " array([0., 1., 1., 0., 1., 1.]),\n",
       " array([0., 0., 0., 0., 1., 0.]),\n",
       " array([1., 0., 1., 1., 1., 0.]),\n",
       " array([1., 0., 0., 0., 1., 1.])]"
      ]
     },
     "execution_count": 41,
     "metadata": {},
     "output_type": "execute_result"
    }
   ],
   "source": [
    "y_pred[:5]"
   ]
  },
  {
   "cell_type": "code",
   "execution_count": 42,
   "metadata": {},
   "outputs": [],
   "source": [
    "y_pred = np.array(y_pred)"
   ]
  },
  {
   "cell_type": "code",
   "execution_count": 43,
   "metadata": {},
   "outputs": [
    {
     "data": {
      "text/plain": [
       "3.4253194888178915"
      ]
     },
     "execution_count": 43,
     "metadata": {},
     "output_type": "execute_result"
    }
   ],
   "source": [
    "coverage_error(y_pred, y_test)"
   ]
  },
  {
   "cell_type": "code",
   "execution_count": 44,
   "metadata": {},
   "outputs": [
    {
     "name": "stderr",
     "output_type": "stream",
     "text": [
      "/Library/Frameworks/Python.framework/Versions/2.7/lib/python2.7/site-packages/sklearn/metrics/classification.py:1143: UndefinedMetricWarning: F-score is ill-defined and being set to 0.0 in samples with no predicted labels.\n",
      "  'precision', 'predicted', average, warn_for)\n",
      "/Library/Frameworks/Python.framework/Versions/2.7/lib/python2.7/site-packages/sklearn/metrics/classification.py:1145: UndefinedMetricWarning: F-score is ill-defined and being set to 0.0 in samples with no true labels.\n",
      "  'recall', 'true', average, warn_for)\n"
     ]
    },
    {
     "data": {
      "text/plain": [
       "0.8899429311370205"
      ]
     },
     "execution_count": 44,
     "metadata": {},
     "output_type": "execute_result"
    }
   ],
   "source": [
    "f1_score(y_test, y_pred, average= 'samples')"
   ]
  },
  {
   "cell_type": "code",
   "execution_count": 45,
   "metadata": {},
   "outputs": [
    {
     "data": {
      "text/plain": [
       "((2504, 6), (2504, 6))"
      ]
     },
     "execution_count": 45,
     "metadata": {},
     "output_type": "execute_result"
    }
   ],
   "source": [
    "y_pred.shape, y_test.shape"
   ]
  },
  {
   "cell_type": "code",
   "execution_count": 46,
   "metadata": {},
   "outputs": [
    {
     "data": {
      "text/plain": [
       "0_l    1358.0\n",
       "1_l    1358.0\n",
       "2_l    1358.0\n",
       "3_l    1358.0\n",
       "4_l    1357.0\n",
       "5_l    1359.0\n",
       "dtype: float64"
      ]
     },
     "execution_count": 46,
     "metadata": {},
     "output_type": "execute_result"
    }
   ],
   "source": [
    "y_test.sum()"
   ]
  },
  {
   "cell_type": "code",
   "execution_count": 47,
   "metadata": {},
   "outputs": [
    {
     "data": {
      "text/plain": [
       "3.253993610223642"
      ]
     },
     "execution_count": 47,
     "metadata": {},
     "output_type": "execute_result"
    }
   ],
   "source": [
    "y_test.sum().sum() / len(y_test)"
   ]
  },
  {
   "cell_type": "code",
   "execution_count": 48,
   "metadata": {},
   "outputs": [
    {
     "data": {
      "text/plain": [
       "0.9639687610933619"
      ]
     },
     "execution_count": 48,
     "metadata": {},
     "output_type": "execute_result"
    }
   ],
   "source": [
    "label_ranking_average_precision_score(y_test, y_pred)"
   ]
  },
  {
   "cell_type": "code",
   "execution_count": 49,
   "metadata": {},
   "outputs": [
    {
     "data": {
      "text/plain": [
       "0.8914703279666899"
      ]
     },
     "execution_count": 49,
     "metadata": {},
     "output_type": "execute_result"
    }
   ],
   "source": [
    "average_precision_score(y_test, y_pred)"
   ]
  },
  {
   "cell_type": "code",
   "execution_count": null,
   "metadata": {},
   "outputs": [],
   "source": []
  }
 ],
 "metadata": {
  "kernelspec": {
   "display_name": "Python3.7 (DNNTT)",
   "language": "python",
   "name": "dnnttt"
  },
  "language_info": {
   "codemirror_mode": {
    "name": "ipython",
    "version": 2
   },
   "file_extension": ".py",
   "mimetype": "text/x-python",
   "name": "python",
   "nbconvert_exporter": "python",
   "pygments_lexer": "ipython2",
   "version": "2.7.16"
  }
 },
 "nbformat": 4,
 "nbformat_minor": 4
}
