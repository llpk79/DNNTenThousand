{
 "cells": [
  {
<<<<<<< HEAD
   "cell_type": "markdown",
   "metadata": {},
   "source": [
    "# Begin exploration of tree estimators."
   ]
  },
  {
=======
>>>>>>> db60deaa86b3cfb47df661a8138ed67180f91cc2
   "cell_type": "code",
   "execution_count": 53,
   "metadata": {},
   "outputs": [],
   "source": [
    "import matplotlib.pyplot as plt\n",
    "import numpy as np\n",
    "import pandas as pd\n",
    "import tensorflow as tf\n",
    "\n",
    "from collections import Counter\n",
    "from itertools import combinations_with_replacement as combos\n",
    "from itertools import permutations as perms\n",
    "from tensorflow.keras import layers, Model\n",
    "from sklearn.ensemble import RandomForestClassifier, ExtraTreesClassifier\n",
    "from sklearn.metrics import coverage_error, f1_score, label_ranking_average_precision_score, average_precision_score\n",
    "from sklearn.model_selection import train_test_split, GridSearchCV\n",
    "from category_encoders import OneHotEncoder\n",
    "from tensorflow.data import Dataset\n"
   ]
  },
  {
<<<<<<< HEAD
   "cell_type": "markdown",
   "metadata": {},
   "source": [
    "#### Establish game rules."
   ]
  },
  {
=======
>>>>>>> db60deaa86b3cfb47df661a8138ed67180f91cc2
   "cell_type": "code",
   "execution_count": 2,
   "metadata": {},
   "outputs": [],
   "source": [
    "def is_three_pair(choice):\n",
    "    choice = sorted(choice)\n",
    "    return (len(choice) == 6 and choice[0] == choice[1] and\n",
    "            choice[2] == choice[3] and choice[4] == choice[5])\n",
    "\n",
    "\n",
    "def is_straight(choice):\n",
    "    return sorted(choice) == list(range(1, 7))\n",
    "\n",
    "\n",
    "def score_all():\n",
    "    return [1.] * 6\n",
    "\n",
    "\n",
    "def choose_dice(roll):\n",
    "    \"\"\"Choose dice according to scoring rules. Boop Beep.\"\"\"\n",
    "    counts = Counter(roll)\n",
    "    if is_three_pair(roll) and (sum(scoring_rules[die - 1][count - 1] for die, count in counts.items()) < 1500):\n",
    "        choice = score_all()\n",
    "    elif is_straight(roll):\n",
    "        choice = score_all()\n",
    "    else:\n",
    "        picks = set()\n",
    "        for die, count in counts.items():\n",
    "            if scoring_rules[die - 1][count - 1] > 0:\n",
    "                picks.add(die)\n",
    "        choice = [0.] * 6\n",
    "        for i, x in enumerate(roll):\n",
    "            if x in picks:\n",
    "                choice[i] = 1.\n",
    "    return np.array(choice)\n",
    "\n",
    "\n",
    "scoring_rules = [[100, 200, 1000, 2000, 4000, 5000],\n",
    "                 [0, 0, 200, 400, 800, 5000],\n",
    "                 [0, 0, 300, 600, 1200, 5000],\n",
    "                 [0, 0, 400, 800, 1600, 5000],\n",
    "                 [50, 100, 500, 1000, 2000, 5000],\n",
    "                 [0, 0, 600, 1200, 2400, 5000]\n",
    "                 ]\n"
   ]
  },
  {
<<<<<<< HEAD
   "cell_type": "markdown",
   "metadata": {},
   "source": [
    "#### Make combinations of 6 dice throws."
   ]
  },
  {
=======
>>>>>>> db60deaa86b3cfb47df661a8138ed67180f91cc2
   "cell_type": "code",
   "execution_count": 3,
   "metadata": {},
   "outputs": [],
   "source": [
    "def make_some_features(numbers, clip):\n",
    "    features = set()\n",
    "    combinations = (combo for combo in combos(numbers, 6))\n",
    "    for i, comb in enumerate(combinations):\n",
    "        if i % clip == 0:  # Keeping size reasonable\n",
    "            for perm in perms(comb):\n",
    "                features.add(perm)\n",
    "    return features\n"
   ]
  },
  {
<<<<<<< HEAD
   "cell_type": "markdown",
   "metadata": {},
   "source": [
    "#### Make combinations of straights and 3-pair throws."
   ]
  },
  {
=======
>>>>>>> db60deaa86b3cfb47df661a8138ed67180f91cc2
   "cell_type": "code",
   "execution_count": 4,
   "metadata": {},
   "outputs": [],
   "source": [
    "def make_special_features():\n",
    "    special_features = set()\n",
    "    for _ in range(7500):\n",
    "        half = [np.random.randint(1, 6) for _ in range(3)]\n",
    "        half += half\n",
    "        for perm in perms(half):\n",
    "            special_features.add(perm)\n",
    "\n",
    "    for perm in perms([1, 2, 3, 4, 5, 6]):\n",
    "        special_features.add(perm)\n",
    "    \n",
    "    return special_features\n"
   ]
  },
  {
<<<<<<< HEAD
   "cell_type": "markdown",
   "metadata": {},
   "source": [
    "#### Make arrays of throws and coresponding multilable labels."
   ]
  },
  {
=======
>>>>>>> db60deaa86b3cfb47df661a8138ed67180f91cc2
   "cell_type": "code",
   "execution_count": 5,
   "metadata": {},
   "outputs": [
    {
     "data": {
      "text/plain": [
       "(23114, 23114)"
      ]
     },
     "execution_count": 5,
     "metadata": {},
     "output_type": "execute_result"
    }
   ],
   "source": [
    "features = make_some_features(list(range(1, 7)), 2)\n",
<<<<<<< HEAD
    "\n",
    "### Special features determined to be detrimental to model accuracy. ###\n",
    "\n",
=======
>>>>>>> db60deaa86b3cfb47df661a8138ed67180f91cc2
    "# special_features = make_special_features()\n",
    "\n",
    "# all_features = [np.array(feature) for feature in special_features]\n",
    "# print(len(all_features))\n",
<<<<<<< HEAD
    "all_features = np.array([np.array(feature) for feature in features])\n",
    "\n",
    "all_labels = np.array([choose_dice(feature) for feature in all_features])\n",
    "\n",
=======
    "all_features = [np.array(feature) for feature in features]\n",
    "\n",
    "all_labels = [choose_dice(feature) for feature in all_features]\n",
    "all_features = np.array(all_features)\n",
    "all_labels = np.array(all_labels)\n",
>>>>>>> db60deaa86b3cfb47df661a8138ed67180f91cc2
    "len(all_features), len(all_labels)"
   ]
  },
  {
<<<<<<< HEAD
   "cell_type": "markdown",
   "metadata": {},
   "source": [
    "#### Create a DataFrame."
   ]
  },
  {
=======
>>>>>>> db60deaa86b3cfb47df661a8138ed67180f91cc2
   "cell_type": "code",
   "execution_count": 6,
   "metadata": {},
   "outputs": [],
   "source": [
    "def create_dataset(features, labels):\n",
    "    data = {str(i): features[:,i] for i in range(6)}\n",
    "    dataset = pd.DataFrame(data)\n",
    "    label = {'{}_l'.format(i): labels[:,i] for i in range(6)}\n",
    "    label_df = pd.DataFrame(label)\n",
    "    df = pd.concat([dataset, label_df], axis=1, sort=False)\n",
    "    return df"
   ]
  },
  {
   "cell_type": "code",
   "execution_count": 7,
   "metadata": {},
   "outputs": [],
   "source": [
    "df = create_dataset(all_features, all_labels)"
   ]
  },
  {
   "cell_type": "code",
   "execution_count": 8,
   "metadata": {},
   "outputs": [
    {
     "data": {
      "text/html": [
       "<div>\n",
       "<style scoped>\n",
       "    .dataframe tbody tr th:only-of-type {\n",
       "        vertical-align: middle;\n",
       "    }\n",
       "\n",
       "    .dataframe tbody tr th {\n",
       "        vertical-align: top;\n",
       "    }\n",
       "\n",
       "    .dataframe thead th {\n",
       "        text-align: right;\n",
       "    }\n",
       "</style>\n",
       "<table border=\"1\" class=\"dataframe\">\n",
       "  <thead>\n",
       "    <tr style=\"text-align: right;\">\n",
       "      <th></th>\n",
       "      <th>0</th>\n",
       "      <th>1</th>\n",
       "      <th>2</th>\n",
       "      <th>3</th>\n",
       "      <th>4</th>\n",
       "      <th>5</th>\n",
       "      <th>0_l</th>\n",
       "      <th>1_l</th>\n",
       "      <th>2_l</th>\n",
       "      <th>3_l</th>\n",
       "      <th>4_l</th>\n",
       "      <th>5_l</th>\n",
       "    </tr>\n",
       "  </thead>\n",
       "  <tbody>\n",
       "    <tr>\n",
       "      <th>18586</th>\n",
       "      <td>6</td>\n",
       "      <td>3</td>\n",
       "      <td>4</td>\n",
       "      <td>6</td>\n",
       "      <td>1</td>\n",
       "      <td>5</td>\n",
       "      <td>0.0</td>\n",
       "      <td>0.0</td>\n",
       "      <td>0.0</td>\n",
       "      <td>0.0</td>\n",
       "      <td>1.0</td>\n",
       "      <td>1.0</td>\n",
       "    </tr>\n",
       "    <tr>\n",
       "      <th>20395</th>\n",
       "      <td>6</td>\n",
       "      <td>3</td>\n",
       "      <td>4</td>\n",
       "      <td>6</td>\n",
       "      <td>4</td>\n",
       "      <td>4</td>\n",
       "      <td>0.0</td>\n",
       "      <td>0.0</td>\n",
       "      <td>1.0</td>\n",
       "      <td>0.0</td>\n",
       "      <td>1.0</td>\n",
       "      <td>1.0</td>\n",
       "    </tr>\n",
       "    <tr>\n",
       "      <th>7736</th>\n",
       "      <td>3</td>\n",
       "      <td>4</td>\n",
       "      <td>4</td>\n",
       "      <td>3</td>\n",
       "      <td>1</td>\n",
       "      <td>6</td>\n",
       "      <td>0.0</td>\n",
       "      <td>0.0</td>\n",
       "      <td>0.0</td>\n",
       "      <td>0.0</td>\n",
       "      <td>1.0</td>\n",
       "      <td>0.0</td>\n",
       "    </tr>\n",
       "    <tr>\n",
       "      <th>18462</th>\n",
       "      <td>6</td>\n",
       "      <td>4</td>\n",
       "      <td>3</td>\n",
       "      <td>3</td>\n",
       "      <td>5</td>\n",
       "      <td>6</td>\n",
       "      <td>0.0</td>\n",
       "      <td>0.0</td>\n",
       "      <td>0.0</td>\n",
       "      <td>0.0</td>\n",
       "      <td>1.0</td>\n",
       "      <td>0.0</td>\n",
       "    </tr>\n",
       "    <tr>\n",
       "      <th>11590</th>\n",
       "      <td>2</td>\n",
       "      <td>3</td>\n",
       "      <td>4</td>\n",
       "      <td>6</td>\n",
       "      <td>3</td>\n",
       "      <td>3</td>\n",
       "      <td>0.0</td>\n",
       "      <td>1.0</td>\n",
       "      <td>0.0</td>\n",
       "      <td>0.0</td>\n",
       "      <td>1.0</td>\n",
       "      <td>1.0</td>\n",
       "    </tr>\n",
       "    <tr>\n",
       "      <th>14341</th>\n",
       "      <td>1</td>\n",
       "      <td>6</td>\n",
       "      <td>2</td>\n",
       "      <td>2</td>\n",
       "      <td>3</td>\n",
       "      <td>6</td>\n",
       "      <td>1.0</td>\n",
       "      <td>0.0</td>\n",
       "      <td>0.0</td>\n",
       "      <td>0.0</td>\n",
       "      <td>0.0</td>\n",
       "      <td>0.0</td>\n",
       "    </tr>\n",
       "    <tr>\n",
       "      <th>20982</th>\n",
       "      <td>2</td>\n",
       "      <td>4</td>\n",
       "      <td>3</td>\n",
       "      <td>2</td>\n",
       "      <td>5</td>\n",
       "      <td>3</td>\n",
       "      <td>0.0</td>\n",
       "      <td>0.0</td>\n",
       "      <td>0.0</td>\n",
       "      <td>0.0</td>\n",
       "      <td>1.0</td>\n",
       "      <td>0.0</td>\n",
       "    </tr>\n",
       "    <tr>\n",
       "      <th>22350</th>\n",
       "      <td>1</td>\n",
       "      <td>6</td>\n",
       "      <td>6</td>\n",
       "      <td>3</td>\n",
       "      <td>4</td>\n",
       "      <td>5</td>\n",
       "      <td>1.0</td>\n",
       "      <td>0.0</td>\n",
       "      <td>0.0</td>\n",
       "      <td>0.0</td>\n",
       "      <td>0.0</td>\n",
       "      <td>1.0</td>\n",
       "    </tr>\n",
       "    <tr>\n",
       "      <th>17212</th>\n",
       "      <td>2</td>\n",
       "      <td>1</td>\n",
       "      <td>6</td>\n",
       "      <td>4</td>\n",
       "      <td>6</td>\n",
       "      <td>2</td>\n",
       "      <td>0.0</td>\n",
       "      <td>1.0</td>\n",
       "      <td>0.0</td>\n",
       "      <td>0.0</td>\n",
       "      <td>0.0</td>\n",
       "      <td>0.0</td>\n",
       "    </tr>\n",
       "    <tr>\n",
       "      <th>1654</th>\n",
       "      <td>3</td>\n",
       "      <td>6</td>\n",
       "      <td>1</td>\n",
       "      <td>5</td>\n",
       "      <td>6</td>\n",
       "      <td>4</td>\n",
       "      <td>0.0</td>\n",
       "      <td>0.0</td>\n",
       "      <td>1.0</td>\n",
       "      <td>1.0</td>\n",
       "      <td>0.0</td>\n",
       "      <td>0.0</td>\n",
       "    </tr>\n",
       "  </tbody>\n",
       "</table>\n",
       "</div>"
      ],
      "text/plain": [
       "       0  1  2  3  4  5  0_l  1_l  2_l  3_l  4_l  5_l\n",
       "18586  6  3  4  6  1  5  0.0  0.0  0.0  0.0  1.0  1.0\n",
       "20395  6  3  4  6  4  4  0.0  0.0  1.0  0.0  1.0  1.0\n",
       "7736   3  4  4  3  1  6  0.0  0.0  0.0  0.0  1.0  0.0\n",
       "18462  6  4  3  3  5  6  0.0  0.0  0.0  0.0  1.0  0.0\n",
       "11590  2  3  4  6  3  3  0.0  1.0  0.0  0.0  1.0  1.0\n",
       "14341  1  6  2  2  3  6  1.0  0.0  0.0  0.0  0.0  0.0\n",
       "20982  2  4  3  2  5  3  0.0  0.0  0.0  0.0  1.0  0.0\n",
       "22350  1  6  6  3  4  5  1.0  0.0  0.0  0.0  0.0  1.0\n",
       "17212  2  1  6  4  6  2  0.0  1.0  0.0  0.0  0.0  0.0\n",
       "1654   3  6  1  5  6  4  0.0  0.0  1.0  1.0  0.0  0.0"
      ]
     },
     "execution_count": 8,
     "metadata": {},
     "output_type": "execute_result"
    }
   ],
   "source": [
    "df.sample(10)"
   ]
  },
  {
<<<<<<< HEAD
   "cell_type": "markdown",
   "metadata": {},
   "source": [
    "#### Separate X and y sets and split into modeling sets."
   ]
  },
  {
=======
>>>>>>> db60deaa86b3cfb47df661a8138ed67180f91cc2
   "cell_type": "code",
   "execution_count": 9,
   "metadata": {},
   "outputs": [],
   "source": [
    "X = df[['0', '1', '2', '3', '4', '5']]\n",
    "y = df[['0_l', '1_l', '2_l', '3_l', '4_l', '5_l']]"
   ]
  },
  {
   "cell_type": "code",
   "execution_count": 10,
   "metadata": {},
   "outputs": [],
   "source": [
    "def train_val_test_split(X, \n",
    "                         y,\n",
    "                         train_size=.8,\n",
    "                         val_size=.1,\n",
    "                         test_size=.1,\n",
    "                         random_state=42,\n",
    "                         shuffle=True):\n",
    "    \n",
    "    assert train_size + val_size + test_size == 1\n",
    "        \n",
    "\n",
    "    X_trainval, X_test, y_trainval, y_test = train_test_split(X,\n",
    "                                                              y,\n",
    "                                                              test_size=test_size,\n",
    "                                                              random_state=random_state,\n",
    "                                                              shuffle=shuffle,\n",
    "                                                              stratify=y\n",
    "                                                             )\n",
    "    X_train, X_val, y_train, y_val = train_test_split(X_trainval,\n",
    "                                                      y_trainval,\n",
    "                                                      test_size=val_size / (train_size + val_size),\n",
    "                                                      random_state=random_state,\n",
    "                                                      shuffle=shuffle,\n",
    "                                                      stratify=y_trainval\n",
    "                                                     )\n",
    "    return X_train, X_val, X_test, y_train, y_val, y_test\n"
   ]
  },
  {
   "cell_type": "code",
   "execution_count": 11,
   "metadata": {},
   "outputs": [],
   "source": [
    "X_train, X_val, X_test, y_train, y_val, y_test = train_val_test_split(X, y)"
   ]
  },
  {
   "cell_type": "code",
   "execution_count": 12,
   "metadata": {},
   "outputs": [
    {
     "data": {
      "text/plain": [
       "((18490, 6), (18490, 6))"
      ]
     },
     "execution_count": 12,
     "metadata": {},
     "output_type": "execute_result"
    }
   ],
   "source": [
    "X_train.shape, y_train.shape"
   ]
  },
  {
   "cell_type": "code",
   "execution_count": 13,
   "metadata": {},
   "outputs": [
    {
     "data": {
      "text/plain": [
       "((2312, 6), (2312, 6))"
      ]
     },
     "execution_count": 13,
     "metadata": {},
     "output_type": "execute_result"
    }
   ],
   "source": [
    "X_val.shape, y_val.shape"
   ]
  },
  {
   "cell_type": "code",
   "execution_count": 14,
   "metadata": {},
   "outputs": [
    {
     "data": {
      "text/plain": [
       "((2312, 6), (2312, 6))"
      ]
     },
     "execution_count": 14,
     "metadata": {},
     "output_type": "execute_result"
    }
   ],
   "source": [
    "X_test.shape, y_test.shape"
   ]
  },
  {
<<<<<<< HEAD
   "cell_type": "markdown",
   "metadata": {},
   "source": [
    "#### Try Random Forest."
   ]
  },
  {
=======
>>>>>>> db60deaa86b3cfb47df661a8138ed67180f91cc2
   "cell_type": "code",
   "execution_count": 15,
   "metadata": {},
   "outputs": [],
   "source": [
    "model = RandomForestClassifier(n_estimators=1000,\n",
    "                               max_depth=20,\n",
    "                               min_samples_split=3,\n",
    "                               n_jobs=-1,\n",
    "                               )"
   ]
  },
  {
   "cell_type": "code",
   "execution_count": 16,
   "metadata": {},
   "outputs": [
    {
     "data": {
      "text/plain": [
       "RandomForestClassifier(bootstrap=True, class_weight=None, criterion='gini',\n",
       "            max_depth=20, max_features='auto', max_leaf_nodes=None,\n",
       "            min_impurity_decrease=0.0, min_impurity_split=None,\n",
       "            min_samples_leaf=1, min_samples_split=3,\n",
       "            min_weight_fraction_leaf=0.0, n_estimators=1000, n_jobs=-1,\n",
       "            oob_score=False, random_state=None, verbose=0,\n",
       "            warm_start=False)"
      ]
     },
     "execution_count": 16,
     "metadata": {},
     "output_type": "execute_result"
    }
   ],
   "source": [
    "model.fit(X_train, y_train)"
   ]
  },
  {
   "cell_type": "code",
   "execution_count": 17,
   "metadata": {},
   "outputs": [
    {
     "data": {
      "text/plain": [
       "0.7482698961937716"
      ]
     },
     "execution_count": 17,
     "metadata": {},
     "output_type": "execute_result"
    }
   ],
   "source": [
    "model.score(X_val, y_val)"
   ]
  },
  {
   "cell_type": "code",
   "execution_count": 18,
   "metadata": {},
   "outputs": [],
   "source": [
    "def test_model_pred(model, start, stop):\n",
    "    for test in all_features[start:stop]:\n",
    "        print(test)\n",
    "        print(choose_dice(test))\n",
    "        print(model.predict([list(test)])[0])"
   ]
  },
  {
   "cell_type": "code",
   "execution_count": 19,
   "metadata": {},
   "outputs": [
    {
     "name": "stdout",
     "output_type": "stream",
     "text": [
      "2230\n",
      "[6 1 5 2 5 5]\n",
      "[0. 1. 1. 0. 1. 1.]\n",
      "[0. 1. 1. 0. 1. 1.]\n",
      "[6 5 3 1 3 3]\n",
      "[0. 1. 1. 1. 1. 1.]\n",
      "[0. 1. 1. 1. 1. 1.]\n",
      "[6 3 6 3 2 5]\n",
      "[0. 0. 0. 0. 0. 1.]\n",
      "[0. 0. 0. 0. 0. 1.]\n",
      "[6 3 6 1 4 1]\n",
      "[0. 0. 0. 1. 0. 1.]\n",
      "[1. 0. 1. 1. 0. 1.]\n",
      "[4 2 5 5 4 4]\n",
      "[1. 0. 1. 1. 1. 1.]\n",
      "[1. 0. 1. 1. 1. 1.]\n",
      "[4 5 1 1 4 2]\n",
      "[0. 1. 1. 1. 0. 0.]\n",
      "[0. 1. 1. 1. 0. 0.]\n",
      "[5 5 4 2 1 3]\n",
      "[1. 1. 0. 0. 1. 0.]\n",
      "[1. 1. 0. 0. 1. 0.]\n",
      "[2 3 2 6 3 1]\n",
      "[0. 0. 0. 0. 0. 1.]\n",
      "[0. 1. 0. 0. 0. 1.]\n",
      "[6 3 1 1 6 4]\n",
      "[0. 0. 1. 1. 0. 0.]\n",
      "[0. 0. 1. 1. 0. 0.]\n",
      "[4 3 6 5 4 3]\n",
      "[0. 0. 0. 1. 0. 0.]\n",
      "[0. 0. 0. 1. 0. 0.]\n",
      "[4 5 1 3 6 6]\n",
      "[0. 1. 1. 0. 0. 0.]\n",
      "[0. 1. 1. 0. 0. 0.]\n",
      "[6 2 5 1 5 4]\n",
      "[0. 0. 1. 1. 1. 0.]\n",
      "[0. 0. 1. 1. 1. 0.]\n",
      "[1 4 2 3 1 3]\n",
      "[1. 0. 0. 0. 1. 0.]\n",
      "[1. 0. 0. 0. 1. 0.]\n",
      "[1 6 1 1 2 5]\n",
      "[1. 0. 1. 1. 0. 1.]\n",
      "[1. 0. 1. 1. 0. 1.]\n",
      "[2 2 2 5 1 4]\n",
      "[1. 1. 1. 1. 1. 0.]\n",
      "[1. 1. 1. 1. 1. 0.]\n",
      "[5 2 3 4 3 1]\n",
      "[1. 0. 0. 0. 0. 1.]\n",
      "[1. 0. 0. 0. 0. 1.]\n",
      "[5 2 2 4 5 1]\n",
      "[1. 0. 0. 0. 1. 1.]\n",
      "[1. 0. 0. 0. 1. 1.]\n",
      "[6 5 2 1 1 5]\n",
      "[0. 1. 0. 1. 1. 1.]\n",
      "[0. 1. 0. 1. 1. 1.]\n",
      "[2 3 6 2 5 5]\n",
      "[0. 0. 0. 0. 1. 1.]\n",
      "[0. 0. 0. 0. 1. 1.]\n",
      "[5 4 4 1 1 5]\n",
      "[1. 1. 1. 1. 1. 1.]\n",
      "[1. 1. 1. 1. 1. 1.]\n"
     ]
    }
   ],
   "source": [
    "num = np.random.randint(0, 2302)\n",
    "print(num)\n",
    "test_model_pred(model, num, num + 20)"
   ]
  },
  {
<<<<<<< HEAD
   "cell_type": "markdown",
   "metadata": {},
   "source": [
    "That's not terrible."
   ]
  },
  {
   "cell_type": "markdown",
   "metadata": {},
   "source": [
    "#### Try Extra Trees."
   ]
  },
  {
=======
>>>>>>> db60deaa86b3cfb47df661a8138ed67180f91cc2
   "cell_type": "code",
   "execution_count": 20,
   "metadata": {},
   "outputs": [
    {
     "data": {
      "text/plain": [
       "0.7993079584775087"
      ]
     },
     "execution_count": 20,
     "metadata": {},
     "output_type": "execute_result"
    }
   ],
   "source": [
    "extra = ExtraTreesClassifier(bootstrap=True,\n",
    "                             max_depth=25,\n",
    "                             n_jobs=-1,\n",
    "                             min_samples_split=3,\n",
    "                             n_estimators=400)\n",
    "extra.fit(X_train, y_train)\n",
    "extra.score(X_val, y_val)"
   ]
  },
  {
   "cell_type": "code",
   "execution_count": 21,
   "metadata": {},
   "outputs": [
    {
     "name": "stdout",
     "output_type": "stream",
     "text": [
      "1854\n",
      "[6 6 1 5 6 1]\n",
      "[1. 1. 1. 1. 1. 1.]\n",
      "[1. 1. 1. 1. 1. 1.]\n",
      "[1 3 6 4 4 5]\n",
      "[1. 0. 0. 0. 0. 1.]\n",
      "[1. 0. 0. 0. 0. 1.]\n",
      "[2 4 1 4 5 1]\n",
      "[0. 0. 1. 0. 1. 1.]\n",
      "[0. 0. 1. 0. 1. 1.]\n",
      "[5 4 2 2 1 5]\n",
      "[1. 0. 0. 0. 1. 1.]\n",
      "[1. 0. 0. 0. 1. 1.]\n",
      "[1 1 2 1 6 1]\n",
      "[1. 1. 0. 1. 0. 1.]\n",
      "[1. 1. 0. 1. 0. 1.]\n",
      "[4 4 5 4 4 1]\n",
      "[1. 1. 1. 1. 1. 1.]\n",
      "[1. 1. 1. 1. 1. 1.]\n",
      "[1 6 6 3 2 3]\n",
      "[1. 0. 0. 0. 0. 0.]\n",
      "[1. 0. 0. 0. 0. 0.]\n",
      "[4 3 4 1 1 5]\n",
      "[0. 0. 0. 1. 1. 1.]\n",
      "[0. 0. 0. 1. 1. 1.]\n",
      "[6 5 4 1 3 3]\n",
      "[0. 1. 0. 1. 0. 0.]\n",
      "[0. 1. 0. 1. 0. 0.]\n",
      "[6 2 1 6 1 3]\n",
      "[0. 0. 1. 0. 1. 0.]\n",
      "[0. 0. 1. 0. 1. 0.]\n",
      "[2 2 5 4 2 4]\n",
      "[1. 1. 1. 0. 1. 0.]\n",
      "[1. 1. 1. 0. 1. 0.]\n",
      "[1 5 4 2 4 4]\n",
      "[1. 1. 1. 0. 1. 1.]\n",
      "[1. 1. 1. 0. 1. 1.]\n",
      "[1 5 2 5 4 4]\n",
      "[1. 1. 0. 1. 0. 0.]\n",
      "[1. 1. 0. 1. 0. 0.]\n",
      "[4 5 4 4 2 5]\n",
      "[1. 1. 1. 1. 0. 1.]\n",
      "[1. 1. 1. 1. 0. 1.]\n",
      "[1 4 5 2 4 4]\n",
      "[1. 1. 1. 0. 1. 1.]\n",
      "[1. 1. 1. 0. 1. 1.]\n",
      "[5 3 1 2 4 2]\n",
      "[1. 0. 1. 0. 0. 0.]\n",
      "[1. 0. 1. 0. 0. 0.]\n",
      "[4 2 5 2 4 1]\n",
      "[0. 0. 1. 0. 0. 1.]\n",
      "[0. 0. 1. 0. 0. 1.]\n",
      "[4 4 3 6 3 2]\n",
      "[0. 0. 0. 0. 0. 0.]\n",
      "[0. 0. 0. 0. 0. 0.]\n",
      "[4 4 4 3 5 4]\n",
      "[1. 1. 1. 0. 1. 1.]\n",
      "[1. 1. 1. 0. 1. 1.]\n",
      "[5 6 2 5 1 1]\n",
      "[1. 0. 0. 1. 1. 1.]\n",
      "[1. 0. 0. 1. 1. 1.]\n"
     ]
    }
   ],
   "source": [
    "num = np.random.randint(0, 2494)\n",
    "print(num)\n",
    "test_model_pred(extra, num, num + 20)"
   ]
  },
  {
<<<<<<< HEAD
   "cell_type": "markdown",
   "metadata": {},
   "source": [
    "#### Better.\n",
    "We'll do some hyperparameter tuning."
   ]
  },
  {
=======
>>>>>>> db60deaa86b3cfb47df661a8138ed67180f91cc2
   "cell_type": "code",
   "execution_count": 22,
   "metadata": {},
   "outputs": [
    {
     "name": "stdout",
     "output_type": "stream",
     "text": [
      "Fitting 3 folds for each of 4 candidates, totalling 12 fits\n"
     ]
    },
    {
     "name": "stderr",
     "output_type": "stream",
     "text": [
      "/Library/Frameworks/Python.framework/Versions/2.7/lib/python2.7/site-packages/sklearn/model_selection/_split.py:2052: FutureWarning: You should specify a value for 'cv' instead of relying on the default value. The default value will change from 3 to 5 in version 0.22.\n",
      "  warnings.warn(CV_WARNING, FutureWarning)\n",
      "[Parallel(n_jobs=-1)]: Using backend LokyBackend with 4 concurrent workers.\n",
      "[Parallel(n_jobs=-1)]: Done  12 out of  12 | elapsed:  8.0min finished\n"
     ]
    },
    {
     "data": {
      "text/plain": [
       "({'n_estimators': 2000}, 0.8995434605656346)"
      ]
     },
     "execution_count": 22,
     "metadata": {},
     "output_type": "execute_result"
    }
   ],
   "source": [
    "params = {'n_estimators': [1000, 1500, 2000, 3000]}\n",
    "\n",
    "grid = GridSearchCV(extra,\n",
    "                    param_grid=params,\n",
    "                    scoring='f1_samples',\n",
    "                    n_jobs=-1,\n",
    "                    cv=5,\n",
    "                    verbose=1)\n",
    "grid.fit(X_train, y_train)\n",
    "grid.best_params_, grid.best_score_"
   ]
  },
  {
   "cell_type": "code",
   "execution_count": 24,
   "metadata": {},
   "outputs": [
    {
     "name": "stdout",
     "output_type": "stream",
     "text": [
      "Fitting 5 folds for each of 4 candidates, totalling 20 fits\n"
     ]
    },
    {
     "name": "stderr",
     "output_type": "stream",
     "text": [
      "[Parallel(n_jobs=-1)]: Using backend LokyBackend with 4 concurrent workers.\n",
      "[Parallel(n_jobs=-1)]: Done  20 out of  20 | elapsed:  2.5min finished\n"
     ]
    },
    {
     "data": {
      "text/plain": [
       "({'max_depth': 30}, 0.900021980603376)"
      ]
     },
     "execution_count": 24,
     "metadata": {},
     "output_type": "execute_result"
    }
   ],
   "source": [
    "params = {'max_depth': [15, 20, 25, 30]}\n",
    "grid = GridSearchCV(extra,\n",
    "                    param_grid=params,\n",
    "                    scoring='f1_samples',\n",
    "                    n_jobs=-1,\n",
    "                    cv=5,\n",
    "                    verbose=1)\n",
    "grid.fit(X_train, y_train)\n",
    "grid.best_params_, grid.best_score_"
   ]
  },
  {
   "cell_type": "code",
   "execution_count": 25,
   "metadata": {},
   "outputs": [
    {
     "name": "stdout",
     "output_type": "stream",
     "text": [
      "Fitting 5 folds for each of 4 candidates, totalling 20 fits\n"
     ]
    },
    {
     "name": "stderr",
     "output_type": "stream",
     "text": [
      "[Parallel(n_jobs=-1)]: Using backend LokyBackend with 4 concurrent workers.\n",
      "[Parallel(n_jobs=-1)]: Done  20 out of  20 | elapsed:  2.1min finished\n"
     ]
    },
    {
     "data": {
      "text/plain": [
       "({'min_samples_split': 5}, 0.901866458762078)"
      ]
     },
     "execution_count": 25,
     "metadata": {},
     "output_type": "execute_result"
    }
   ],
   "source": [
    "params = {'min_samples_split': [5, 6, 7, 8]}\n",
    "grid = GridSearchCV(extra,\n",
    "                    param_grid=params,\n",
    "                    scoring='f1_samples',\n",
    "                    n_jobs=-1,\n",
    "                    cv=5,\n",
    "                    verbose=1)\n",
    "grid.fit(X_train, y_train)\n",
    "grid.best_params_, grid.best_score_"
   ]
  },
  {
   "cell_type": "code",
   "execution_count": 26,
   "metadata": {},
   "outputs": [
    {
     "name": "stdout",
     "output_type": "stream",
     "text": [
      "Fitting 5 folds for each of 2 candidates, totalling 10 fits\n"
     ]
    },
    {
     "name": "stderr",
     "output_type": "stream",
     "text": [
      "[Parallel(n_jobs=-1)]: Using backend LokyBackend with 4 concurrent workers.\n",
      "[Parallel(n_jobs=-1)]: Done  10 out of  10 | elapsed:  1.4min finished\n"
     ]
    },
    {
     "data": {
      "text/plain": [
       "({'oob_score': True}, 0.899550137081235)"
      ]
     },
     "execution_count": 26,
     "metadata": {},
     "output_type": "execute_result"
    }
   ],
   "source": [
    "params = {'oob_score': [True, False]}\n",
    "grid = GridSearchCV(extra,\n",
    "                    param_grid=params,\n",
    "                    scoring='f1_samples',\n",
    "                    n_jobs=-1,\n",
    "                    cv=5,\n",
    "                    verbose=1)\n",
    "grid.fit(X_train, y_train)\n",
    "grid.best_params_, grid.best_score_"
   ]
  },
  {
<<<<<<< HEAD
   "cell_type": "markdown",
   "metadata": {},
   "source": [
    "#### Try and tighten things up a bit further."
   ]
  },
  {
=======
>>>>>>> db60deaa86b3cfb47df661a8138ed67180f91cc2
   "cell_type": "code",
   "execution_count": 27,
   "metadata": {},
   "outputs": [
    {
     "name": "stdout",
     "output_type": "stream",
     "text": [
      "Fitting 5 folds for each of 9 candidates, totalling 45 fits\n"
     ]
    },
    {
     "name": "stderr",
     "output_type": "stream",
     "text": [
      "[Parallel(n_jobs=-1)]: Using backend LokyBackend with 4 concurrent workers.\n",
      "[Parallel(n_jobs=-1)]: Done  45 out of  45 | elapsed: 34.8min finished\n"
     ]
    },
    {
     "data": {
      "text/plain": [
       "({'max_depth': 27,\n",
       "  'min_samples_split': 4,\n",
       "  'n_estimators': 2000,\n",
       "  'oob_score': True},\n",
       " 0.9017508742684514)"
      ]
     },
     "execution_count": 27,
     "metadata": {},
     "output_type": "execute_result"
    }
   ],
   "source": [
    "params = {'min_samples_split': [4, 5, 6],\n",
    "          'max_depth': [27, 30, 33],\n",
    "          'oob_score': [True],\n",
    "          'n_estimators': [2000]}\n",
    "grid = GridSearchCV(extra,\n",
    "                    param_grid=params,\n",
    "                    scoring='f1_samples',\n",
    "                    n_jobs=-1,\n",
    "                    cv=5,\n",
    "                    verbose=1)\n",
    "grid.fit(X_train, y_train)\n",
    "grid.best_params_, grid.best_score_"
   ]
  },
  {
<<<<<<< HEAD
   "cell_type": "markdown",
   "metadata": {},
   "source": [
    "#### Just a bit further still..."
   ]
  },
  {
=======
>>>>>>> db60deaa86b3cfb47df661a8138ed67180f91cc2
   "cell_type": "code",
   "execution_count": 30,
   "metadata": {},
   "outputs": [
    {
     "name": "stdout",
     "output_type": "stream",
     "text": [
      "Fitting 5 folds for each of 9 candidates, totalling 45 fits\n"
     ]
    },
    {
     "name": "stderr",
     "output_type": "stream",
     "text": [
      "[Parallel(n_jobs=-1)]: Using backend LokyBackend with 4 concurrent workers.\n",
      "[Parallel(n_jobs=-1)]: Done  45 out of  45 | elapsed: 41.4min finished\n"
     ]
    },
    {
     "data": {
      "text/plain": [
       "({'max_depth': 26,\n",
       "  'min_samples_split': 5,\n",
       "  'n_estimators': 2000,\n",
       "  'oob_score': True},\n",
       " 0.901599253759881)"
      ]
     },
     "execution_count": 30,
     "metadata": {},
     "output_type": "execute_result"
    }
   ],
   "source": [
    "params = {'min_samples_split': [3, 4, 5],\n",
    "          'max_depth': [26, 27, 28],\n",
    "          'oob_score': [True],\n",
    "          'n_estimators': [2000]}\n",
    "grid = GridSearchCV(extra,\n",
    "                    param_grid=params,\n",
    "                    scoring='f1_samples',\n",
    "                    n_jobs=-1,\n",
    "                    cv=5,\n",
    "                    verbose=1)\n",
    "grid.fit(X_train, y_train)\n",
    "grid.best_params_, grid.best_score_"
   ]
  },
  {
<<<<<<< HEAD
   "cell_type": "markdown",
   "metadata": {},
   "source": [
    "#### Finally, look for the best `n_estimators`."
   ]
  },
  {
=======
>>>>>>> db60deaa86b3cfb47df661a8138ed67180f91cc2
   "cell_type": "code",
   "execution_count": 31,
   "metadata": {},
   "outputs": [
    {
     "name": "stdout",
     "output_type": "stream",
     "text": [
      "Fitting 5 folds for each of 6 candidates, totalling 30 fits\n"
     ]
    },
    {
     "name": "stderr",
     "output_type": "stream",
     "text": [
      "[Parallel(n_jobs=-1)]: Using backend LokyBackend with 4 concurrent workers.\n",
      "[Parallel(n_jobs=-1)]: Done  30 out of  30 | elapsed: 24.1min finished\n"
     ]
    },
    {
     "data": {
      "text/plain": [
       "({'n_estimators': 1250}, 0.9016242350882696)"
      ]
     },
     "execution_count": 31,
     "metadata": {},
     "output_type": "execute_result"
    }
   ],
   "source": [
    "params = {'n_estimators': [1250, 1500, 1750, 2000, 2250, 2500]}\n",
    "grid = GridSearchCV(grid.best_estimator_,\n",
    "                    param_grid=params,\n",
    "                    scoring='f1_samples',\n",
    "                    n_jobs=-1,\n",
    "                    cv=5,\n",
    "                    verbose=1)\n",
    "grid.fit(X_train, y_train)\n",
    "grid.best_params_, grid.best_score_"
   ]
  },
  {
<<<<<<< HEAD
   "cell_type": "markdown",
   "metadata": {},
   "source": [
    "#### Not bad at all. Especially considering how harsh a metric accuracy is in multilable tasks.\n",
    "I'll look at `label_ranking_average_precision_score` below.\n",
    "Also, I'll repeat in a new notebook using `average_precision` as the scoring metric in the grid search."
   ]
  },
  {
=======
>>>>>>> db60deaa86b3cfb47df661a8138ed67180f91cc2
   "cell_type": "code",
   "execution_count": 32,
   "metadata": {},
   "outputs": [
    {
     "data": {
      "text/plain": [
       "0.9016242350882696"
      ]
     },
     "execution_count": 32,
     "metadata": {},
     "output_type": "execute_result"
    }
   ],
   "source": [
    "grid.best_score_"
   ]
  },
  {
   "cell_type": "code",
   "execution_count": 33,
   "metadata": {},
   "outputs": [
    {
     "data": {
      "text/plain": [
       "{'n_estimators': 1250}"
      ]
     },
     "execution_count": 33,
     "metadata": {},
     "output_type": "execute_result"
    }
   ],
   "source": [
    "grid.best_params_"
   ]
  },
  {
   "cell_type": "code",
   "execution_count": 34,
   "metadata": {},
   "outputs": [],
   "source": [
    "best = grid.best_estimator_"
   ]
  },
  {
   "cell_type": "code",
   "execution_count": 35,
   "metadata": {},
   "outputs": [
    {
     "data": {
      "text/plain": [
       "0.8252595155709342"
      ]
     },
     "execution_count": 35,
     "metadata": {},
     "output_type": "execute_result"
    }
   ],
   "source": [
    "best.score(X_val, y_val)"
   ]
  },
  {
   "cell_type": "code",
   "execution_count": 45,
   "metadata": {},
   "outputs": [
    {
     "name": "stdout",
     "output_type": "stream",
     "text": [
      "1286\n",
      "[3 3 3 6 4 3]\n",
      "[1. 1. 1. 0. 0. 1.]\n",
      "[1. 1. 1. 0. 0. 1.]\n",
      "[5 2 2 6 4 5]\n",
      "[1. 0. 0. 0. 0. 1.]\n",
      "[1. 0. 0. 0. 0. 1.]\n",
      "[4 2 1 3 3 2]\n",
      "[0. 0. 1. 0. 0. 0.]\n",
      "[0. 0. 1. 0. 0. 0.]\n",
      "[2 6 6 4 4 2]\n",
      "[1. 1. 1. 1. 1. 1.]\n",
      "[0. 0. 0. 1. 1. 0.]\n",
      "[6 4 4 3 6 4]\n",
      "[0. 1. 1. 0. 0. 1.]\n",
      "[0. 1. 1. 0. 0. 1.]\n",
      "[4 5 4 1 4 1]\n",
      "[1. 1. 1. 1. 1. 1.]\n",
      "[1. 1. 1. 1. 1. 1.]\n",
      "[3 1 6 3 6 2]\n",
      "[0. 1. 0. 0. 0. 0.]\n",
      "[0. 1. 0. 0. 0. 0.]\n",
      "[4 3 3 2 4 6]\n",
      "[0. 0. 0. 0. 0. 0.]\n",
      "[0. 0. 0. 0. 0. 0.]\n",
      "[3 5 1 3 3 6]\n",
      "[1. 1. 1. 1. 1. 0.]\n",
      "[0. 1. 1. 0. 0. 0.]\n",
      "[4 2 4 1 6 6]\n",
      "[0. 0. 0. 1. 0. 0.]\n",
      "[0. 0. 0. 1. 0. 0.]\n",
      "[3 3 6 1 4 4]\n",
      "[0. 0. 0. 1. 0. 0.]\n",
      "[0. 0. 0. 1. 0. 0.]\n",
      "[5 3 2 5 6 6]\n",
      "[1. 0. 0. 1. 0. 0.]\n",
      "[1. 0. 0. 1. 0. 0.]\n",
      "[3 5 1 5 1 2]\n",
      "[0. 1. 1. 1. 1. 0.]\n",
      "[0. 1. 1. 1. 1. 0.]\n",
      "[1 2 4 5 2 1]\n",
      "[1. 0. 0. 1. 0. 1.]\n",
      "[1. 0. 0. 1. 0. 1.]\n",
      "[1 5 3 6 4 3]\n",
      "[1. 1. 0. 0. 0. 0.]\n",
      "[1. 1. 0. 0. 0. 0.]\n",
      "[5 3 3 1 4 1]\n",
      "[1. 0. 0. 1. 0. 1.]\n",
      "[1. 0. 0. 1. 0. 1.]\n",
      "[5 4 6 2 5 4]\n",
      "[1. 0. 0. 0. 1. 0.]\n",
      "[1. 0. 0. 0. 1. 0.]\n",
      "[6 1 3 2 1 3]\n",
      "[0. 1. 0. 0. 1. 0.]\n",
      "[0. 1. 0. 0. 1. 0.]\n",
      "[2 6 1 2 3 2]\n",
      "[1. 0. 1. 1. 0. 1.]\n",
      "[0. 0. 1. 0. 0. 0.]\n",
      "[6 4 3 4 4 1]\n",
      "[0. 1. 0. 1. 1. 1.]\n",
      "[0. 1. 0. 1. 1. 1.]\n"
     ]
    }
   ],
   "source": [
    "num = np.random.randint(0, 2302)\n",
    "print(num)\n",
    "test_model_pred(best, num, num + 20)"
   ]
  },
  {
   "cell_type": "code",
   "execution_count": 37,
   "metadata": {},
   "outputs": [],
   "source": [
    "y_pred = [best.predict([test])[0] for test in X_test.values]"
   ]
  },
  {
   "cell_type": "code",
   "execution_count": 38,
   "metadata": {},
   "outputs": [
    {
     "data": {
      "text/plain": [
       "0_l    1.0\n",
       "1_l    1.0\n",
       "2_l    1.0\n",
       "3_l    1.0\n",
       "4_l    0.0\n",
       "5_l    1.0\n",
       "Name: 9874, dtype: float64"
      ]
     },
     "execution_count": 38,
     "metadata": {},
     "output_type": "execute_result"
    }
   ],
   "source": [
    "y_test.iloc[0]"
   ]
  },
  {
   "cell_type": "code",
   "execution_count": 39,
   "metadata": {},
   "outputs": [
    {
     "data": {
      "text/plain": [
       "[array([1., 1., 1., 1., 0., 1.]),\n",
       " array([1., 0., 0., 0., 0., 1.]),\n",
       " array([1., 1., 1., 0., 1., 0.]),\n",
       " array([0., 1., 1., 1., 0., 0.]),\n",
       " array([0., 0., 0., 0., 0., 1.])]"
      ]
     },
     "execution_count": 39,
     "metadata": {},
     "output_type": "execute_result"
    }
   ],
   "source": [
    "y_pred[:5]"
   ]
  },
  {
   "cell_type": "code",
   "execution_count": 40,
   "metadata": {},
   "outputs": [],
   "source": [
    "y_pred = np.array(y_pred)"
   ]
  },
  {
   "cell_type": "code",
   "execution_count": 41,
   "metadata": {},
   "outputs": [
    {
     "data": {
      "text/plain": [
       "3.0916955017301038"
      ]
     },
     "execution_count": 41,
     "metadata": {},
     "output_type": "execute_result"
    }
   ],
   "source": [
    "coverage_error(y_pred, y_test)"
   ]
  },
  {
   "cell_type": "code",
   "execution_count": 52,
   "metadata": {},
   "outputs": [
    {
     "data": {
      "text/plain": [
       "0.9068701098977916"
      ]
     },
     "execution_count": 52,
     "metadata": {},
     "output_type": "execute_result"
    }
   ],
   "source": [
    "f1_score(y_test, y_pred, average= 'samples')"
   ]
  },
  {
   "cell_type": "code",
   "execution_count": 43,
   "metadata": {},
   "outputs": [
    {
     "data": {
      "text/plain": [
       "((2312, 6), (2312, 6))"
      ]
     },
     "execution_count": 43,
     "metadata": {},
     "output_type": "execute_result"
    }
   ],
   "source": [
    "y_pred.shape, y_test.shape"
   ]
  },
  {
   "cell_type": "code",
   "execution_count": 46,
   "metadata": {},
   "outputs": [
    {
     "data": {
      "text/plain": [
       "0_l    1169.0\n",
       "1_l    1170.0\n",
       "2_l    1168.0\n",
       "3_l    1169.0\n",
       "4_l    1166.0\n",
       "5_l    1170.0\n",
       "dtype: float64"
      ]
     },
     "execution_count": 46,
     "metadata": {},
     "output_type": "execute_result"
    }
   ],
   "source": [
    "y_test.sum()"
   ]
  },
  {
   "cell_type": "code",
   "execution_count": 48,
   "metadata": {},
   "outputs": [
    {
     "data": {
      "text/plain": [
       "3.0328719723183393"
      ]
     },
     "execution_count": 48,
     "metadata": {},
     "output_type": "execute_result"
    }
   ],
   "source": [
    "y_test.sum().sum() / len(y_test)"
   ]
  },
  {
   "cell_type": "code",
   "execution_count": 51,
   "metadata": {},
   "outputs": [
    {
     "data": {
      "text/plain": [
       "0.97364655420992"
      ]
     },
     "execution_count": 51,
     "metadata": {},
     "output_type": "execute_result"
    }
   ],
   "source": [
    "label_ranking_average_precision_score(y_test, y_pred)"
   ]
  },
  {
   "cell_type": "code",
   "execution_count": 54,
   "metadata": {},
   "outputs": [
    {
     "data": {
      "text/plain": [
       "0.910693461220589"
      ]
     },
     "execution_count": 54,
     "metadata": {},
     "output_type": "execute_result"
    }
   ],
   "source": [
    "average_precision_score(y_test, y_pred)"
   ]
  },
  {
   "cell_type": "code",
   "execution_count": null,
   "metadata": {},
   "outputs": [],
   "source": []
  }
 ],
 "metadata": {
  "kernelspec": {
   "display_name": "Python3.7 (DNNTT)",
   "language": "python",
   "name": "dnnttt"
  },
  "language_info": {
   "codemirror_mode": {
    "name": "ipython",
    "version": 2
   },
   "file_extension": ".py",
   "mimetype": "text/x-python",
   "name": "python",
   "nbconvert_exporter": "python",
   "pygments_lexer": "ipython2",
   "version": "2.7.16"
  }
 },
 "nbformat": 4,
 "nbformat_minor": 4
}
